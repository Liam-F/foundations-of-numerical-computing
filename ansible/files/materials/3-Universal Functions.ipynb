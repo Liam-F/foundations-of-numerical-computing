{
 "cells": [
  {
   "cell_type": "markdown",
   "metadata": {},
   "source": [
    "# Universal Functions\n",
    "\n",
    "The exercises in this notebook will teach you how to use universal functions (ufuncs) to apply vectorized operations over arrays."
   ]
  },
  {
   "cell_type": "code",
   "execution_count": 1,
   "metadata": {},
   "outputs": [],
   "source": [
    "import numpy as np"
   ]
  },
  {
   "cell_type": "markdown",
   "metadata": {},
   "source": [
    "## UFunc Basics: Unary Functions\n",
    "\n",
    "Numpy provides many functions that can be applied over an entire array as a single operation."
   ]
  },
  {
   "cell_type": "code",
   "execution_count": null,
   "metadata": {},
   "outputs": [],
   "source": [
    "data = np.linspace(0, 3, 15)\n",
    "data"
   ]
  },
  {
   "cell_type": "markdown",
   "metadata": {},
   "source": [
    "**Exercise:** Use `np.sqrt` to compute the square-root of every element in `data`.\n",
    "\n",
    "(**Hint:** You should only need to call `sqrt` once)."
   ]
  },
  {
   "cell_type": "code",
   "execution_count": null,
   "metadata": {},
   "outputs": [],
   "source": [
    "np.sqrt?"
   ]
  },
  {
   "cell_type": "markdown",
   "metadata": {},
   "source": [
    "**Exercise:** Use `np.exp` to compute $e^x$ for each element of `data`."
   ]
  },
  {
   "cell_type": "code",
   "execution_count": null,
   "metadata": {},
   "outputs": [],
   "source": [
    "np.exp?"
   ]
  },
  {
   "cell_type": "markdown",
   "metadata": {},
   "source": [
    "**Exercise:** Use `np.log` to compute the [natural logarithm](https://en.wikipedia.org/wiki/Natural_logarithm) of every value in `data`."
   ]
  },
  {
   "cell_type": "code",
   "execution_count": null,
   "metadata": {},
   "outputs": [],
   "source": [
    "np.log?"
   ]
  },
  {
   "cell_type": "markdown",
   "metadata": {},
   "source": [
    "## UFunc Basics: Binary Operators\n",
    "\n",
    "Most of Python's binary operators can also be used as as UFuncs. \n",
    "\n",
    "Binary operators work on like-shape (array, array) pairs, as well as (array, scalar) pairs."
   ]
  },
  {
   "cell_type": "code",
   "execution_count": null,
   "metadata": {},
   "outputs": [],
   "source": [
    "x = np.linspace(0, 10, 11)\n",
    "print(\"x:\", x)\n",
    "y = np.linspace(0, 1, 11)\n",
    "print(\"y:\", y)"
   ]
  },
  {
   "cell_type": "markdown",
   "metadata": {},
   "source": [
    "### Combining Arrays and Scalars"
   ]
  },
  {
   "cell_type": "markdown",
   "metadata": {},
   "source": [
    "**Exercise:** Compute an array containing each value from `x` incremented by 1."
   ]
  },
  {
   "cell_type": "code",
   "execution_count": null,
   "metadata": {},
   "outputs": [],
   "source": []
  },
  {
   "cell_type": "markdown",
   "metadata": {},
   "source": [
    "**Exercise:** Compute an array containing each value from `y` multiplied by 2."
   ]
  },
  {
   "cell_type": "code",
   "execution_count": null,
   "metadata": {},
   "outputs": [],
   "source": []
  },
  {
   "cell_type": "markdown",
   "metadata": {},
   "source": [
    "**Exercise:** Compute an array containing each value from ``x`` squared."
   ]
  },
  {
   "cell_type": "code",
   "execution_count": null,
   "metadata": {},
   "outputs": [],
   "source": []
  },
  {
   "cell_type": "markdown",
   "metadata": {},
   "source": [
    "### Combining Arrays with Arrays"
   ]
  },
  {
   "cell_type": "markdown",
   "metadata": {},
   "source": [
    "**Exercise:** Compute an array containing the element-wise sum of values drawn from `x` and `y`. \n",
    "\n",
    "(For example, the element-wise sum of `[1, 2, 3]` and `[2, 3, 4]` would be `[3, 5, 7]`.)"
   ]
  },
  {
   "cell_type": "code",
   "execution_count": null,
   "metadata": {},
   "outputs": [],
   "source": []
  },
  {
   "cell_type": "markdown",
   "metadata": {},
   "source": [
    "**Exercise:** Compute an array containing the element-wise product of values drawn from `x` and `y`."
   ]
  },
  {
   "cell_type": "code",
   "execution_count": null,
   "metadata": {},
   "outputs": [],
   "source": []
  },
  {
   "cell_type": "markdown",
   "metadata": {},
   "source": [
    "**Exercise:** Compute an array containing each element in `x` raised to the power of the corresponding element in `y`."
   ]
  },
  {
   "cell_type": "code",
   "execution_count": null,
   "metadata": {},
   "outputs": [],
   "source": []
  },
  {
   "cell_type": "markdown",
   "metadata": {},
   "source": [
    "## Exercise: Plotting Functions with Numpy and Matplotlib\n",
    "\n",
    "Numpy can be used as powerful graphing calculator when combined with a plotting library like [matplotlib](https://matplotlib.org/index.html)."
   ]
  },
  {
   "cell_type": "code",
   "execution_count": null,
   "metadata": {},
   "outputs": [],
   "source": [
    "x = np.linspace(-np.pi, np.pi, 500)"
   ]
  },
  {
   "cell_type": "markdown",
   "metadata": {},
   "source": [
    "You can plot arrays of X and Y values by passing them to `matplotlib.pyplot.plot`."
   ]
  },
  {
   "cell_type": "code",
   "execution_count": 7,
   "metadata": {},
   "outputs": [],
   "source": [
    "import matplotlib.pyplot as plt\n",
    "\n",
    "# Tell matplotlib to output images to our notebook. \n",
    "# Without this line, matplotlib would construct a figure in memory, but wouldn't show it to us.\n",
    "%matplotlib inline\n",
    "\n",
    "# Tell matplotlib to use a larger default figure size.\n",
    "plt.rc('figure', figsize=(12, 7))"
   ]
  },
  {
   "cell_type": "markdown",
   "metadata": {},
   "source": [
    "**Example:** Plot the graph of $y = x^2$."
   ]
  },
  {
   "cell_type": "code",
   "execution_count": null,
   "metadata": {},
   "outputs": [],
   "source": [
    "plt.plot(x, x ** 2);"
   ]
  },
  {
   "cell_type": "markdown",
   "metadata": {},
   "source": [
    "**Exercise:** Use numpy and matplotlib to plot graphs of the following functions:\n",
    "\n",
    "- $y = \\sqrt{x}$\n",
    "- $y = x^2 + 2x + 1$\n",
    "- $y = \\sin{\\frac{1}{x}}$"
   ]
  },
  {
   "cell_type": "code",
   "execution_count": null,
   "metadata": {},
   "outputs": [],
   "source": []
  },
  {
   "cell_type": "code",
   "execution_count": null,
   "metadata": {},
   "outputs": [],
   "source": []
  },
  {
   "cell_type": "code",
   "execution_count": null,
   "metadata": {},
   "outputs": [],
   "source": []
  },
  {
   "cell_type": "markdown",
   "metadata": {},
   "source": [
    "Numpy and matplotlib can also be used to plot functions of multiple arguments.\n",
    "\n",
    "The easiest way to plot a function of two arguments is to use `np.meshgrid` to generate grids of `x` and `y` coordinates, and to use `matplotlib.pyplot.imshow` to draw a density plot."
   ]
  },
  {
   "cell_type": "markdown",
   "metadata": {},
   "source": [
    "**Example:** Draw a density plot of $z = \\sin{x} + \\cos{y}$."
   ]
  },
  {
   "cell_type": "code",
   "execution_count": 8,
   "metadata": {},
   "outputs": [
    {
     "name": "stdout",
     "output_type": "stream",
     "text": [
      "X Values: [-5.   -3.75 -2.5  -1.25  0.    1.25  2.5   3.75  5.  ]\n",
      "Y Values: [-5.   -3.75 -2.5  -1.25  0.    1.25  2.5   3.75  5.  ]\n",
      "X Coordinates:\n",
      " [[-5.   -3.75 -2.5  -1.25  0.    1.25  2.5   3.75  5.  ]\n",
      " [-5.   -3.75 -2.5  -1.25  0.    1.25  2.5   3.75  5.  ]\n",
      " [-5.   -3.75 -2.5  -1.25  0.    1.25  2.5   3.75  5.  ]\n",
      " [-5.   -3.75 -2.5  -1.25  0.    1.25  2.5   3.75  5.  ]\n",
      " [-5.   -3.75 -2.5  -1.25  0.    1.25  2.5   3.75  5.  ]\n",
      " [-5.   -3.75 -2.5  -1.25  0.    1.25  2.5   3.75  5.  ]\n",
      " [-5.   -3.75 -2.5  -1.25  0.    1.25  2.5   3.75  5.  ]\n",
      " [-5.   -3.75 -2.5  -1.25  0.    1.25  2.5   3.75  5.  ]\n",
      " [-5.   -3.75 -2.5  -1.25  0.    1.25  2.5   3.75  5.  ]]\n",
      "Y Coordinates:\n",
      " [[-5.   -5.   -5.   -5.   -5.   -5.   -5.   -5.   -5.  ]\n",
      " [-3.75 -3.75 -3.75 -3.75 -3.75 -3.75 -3.75 -3.75 -3.75]\n",
      " [-2.5  -2.5  -2.5  -2.5  -2.5  -2.5  -2.5  -2.5  -2.5 ]\n",
      " [-1.25 -1.25 -1.25 -1.25 -1.25 -1.25 -1.25 -1.25 -1.25]\n",
      " [ 0.    0.    0.    0.    0.    0.    0.    0.    0.  ]\n",
      " [ 1.25  1.25  1.25  1.25  1.25  1.25  1.25  1.25  1.25]\n",
      " [ 2.5   2.5   2.5   2.5   2.5   2.5   2.5   2.5   2.5 ]\n",
      " [ 3.75  3.75  3.75  3.75  3.75  3.75  3.75  3.75  3.75]\n",
      " [ 5.    5.    5.    5.    5.    5.    5.    5.    5.  ]]\n"
     ]
    }
   ],
   "source": [
    "# np.meshgrid takes arrays of X and Y values, and returns a pair of 2D arrays \n",
    "# that containing all pairs of (X, Y) coordinates from the input arrays.\n",
    "xvals = np.linspace(-5, 5, 9)\n",
    "yvals = np.linspace(-5, 5, 9)\n",
    "print(\"X Values:\", xvals)\n",
    "print(\"Y Values:\", yvals)\n",
    "\n",
    "xcoords, ycoords = np.meshgrid(xvals, yvals)\n",
    "print(\"X Coordinates:\\n\", xcoords)\n",
    "print(\"Y Coordinates:\\n\", ycoords)"
   ]
  },
  {
   "cell_type": "code",
   "execution_count": 9,
   "metadata": {},
   "outputs": [
    {
     "data": {
      "image/png": "[encoded data removed]",
      "text/plain": [
       "<Figure size 864x504 with 1 Axes>"
      ]
     },
     "metadata": {},
     "output_type": "display_data"
    }
   ],
   "source": [
    "plt.imshow(np.sin(xcoords) + np.cos(ycoords), extent=[xvals[0], xvals[-1], yvals[0], yvals[-1]]);"
   ]
  },
  {
   "cell_type": "markdown",
   "metadata": {},
   "source": [
    "The plot looks better if we use a few more samples:"
   ]
  },
  {
   "cell_type": "code",
   "execution_count": 17,
   "metadata": {},
   "outputs": [
    {
     "ename": "SyntaxError",
     "evalue": "invalid syntax (<ipython-input-17-b5889ab6b49a>, line 2)",
     "output_type": "error",
     "traceback": [
      "\u001b[0;36m  File \u001b[0;32m\"<ipython-input-17-b5889ab6b49a>\"\u001b[0;36m, line \u001b[0;32m2\u001b[0m\n\u001b[0;31m    plt.imshow(np.log(np.abs(np.exp(X) - np.exp(Y)), extent=[-5, 5, -5, 5]);\u001b[0m\n\u001b[0m                                                                           ^\u001b[0m\n\u001b[0;31mSyntaxError\u001b[0m\u001b[0;31m:\u001b[0m invalid syntax\n"
     ]
    }
   ],
   "source": [
    "X, Y = np.meshgrid(np.linspace(-5, 5, 100), np.linspace(-5, 5, 100))\n",
    "plt.imshow(np.sin(X) + np.cos(Y), extent=[-5, 5, -5, 5]);"
   ]
  },
  {
   "cell_type": "markdown",
   "metadata": {},
   "source": [
    "**Exercise:** Generate a density plot of the function $z = \\sqrt{x^2 + y^2}$."
   ]
  },
  {
   "cell_type": "code",
   "execution_count": null,
   "metadata": {},
   "outputs": [],
   "source": []
  },
  {
   "cell_type": "markdown",
   "metadata": {},
   "source": [
    "**Exercise:** Generate a density plot of the function $z = e^x - e^y$"
   ]
  },
  {
   "cell_type": "code",
   "execution_count": null,
   "metadata": {},
   "outputs": [],
   "source": []
  }
 ],
 "metadata": {
  "kernelspec": {
   "display_name": "Python 3",
   "language": "python",
   "name": "python3"
  },
  "language_info": {
   "codemirror_mode": {
    "name": "ipython",
    "version": 3
   },
   "file_extension": ".py",
   "mimetype": "text/x-python",
   "name": "python",
   "nbconvert_exporter": "python",
   "pygments_lexer": "ipython3",
   "version": "3.5.2"
  }
 },
 "nbformat": 4,
 "nbformat_minor": 2
}
