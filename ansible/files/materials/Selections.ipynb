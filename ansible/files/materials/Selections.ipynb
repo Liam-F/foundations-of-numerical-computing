{
 "cells": [
  {
   "cell_type": "markdown",
   "metadata": {},
   "source": [
    "# Selections"
   ]
  },
  {
   "cell_type": "code",
   "execution_count": 5,
   "metadata": {},
   "outputs": [],
   "source": [
    "import numpy as np\n",
    "\n",
    "seed = int.from_bytes(b'lmao', 'little')\n",
    "rand = np.random.RandomState(seed)"
   ]
  },
  {
   "cell_type": "markdown",
   "metadata": {},
   "source": [
    "# Select the following elements from the array:\n",
    "\n",
    "1. first\n",
    "1. second\n",
    "1. last\n",
    "1. second to last\n",
    "1. first 5\n",
    "1. last 5"
   ]
  },
  {
   "cell_type": "code",
   "execution_count": 7,
   "metadata": {},
   "outputs": [],
   "source": [
    "array = np.arange(20)"
   ]
  },
  {
   "cell_type": "markdown",
   "metadata": {},
   "source": [
    "# Select every other element."
   ]
  },
  {
   "cell_type": "code",
   "execution_count": 8,
   "metadata": {},
   "outputs": [],
   "source": [
    "array = np.arange(20)"
   ]
  },
  {
   "cell_type": "markdown",
   "metadata": {},
   "source": [
    "# Select every other element, starting at index 3 (inclusive), and ending at index 17 (exclusive)."
   ]
  },
  {
   "cell_type": "code",
   "execution_count": 9,
   "metadata": {},
   "outputs": [],
   "source": [
    "array = np.arange(20)"
   ]
  },
  {
   "cell_type": "markdown",
   "metadata": {},
   "source": [
    "# Select the following elements from the array:\n",
    "\n",
    "1. first column\n",
    "1. second column\n",
    "1. last column\n",
    "1. second to last column\n",
    "1. first 5 columns\n",
    "1. last 5 columns"
   ]
  },
  {
   "cell_type": "code",
   "execution_count": 11,
   "metadata": {},
   "outputs": [],
   "source": [
    "array = np.arange(20 * 20).reshape(20, 20)"
   ]
  },
  {
   "cell_type": "markdown",
   "metadata": {},
   "source": [
    "# Select the top left and bottom right values."
   ]
  },
  {
   "cell_type": "code",
   "execution_count": 18,
   "metadata": {},
   "outputs": [],
   "source": [
    "array = np.arange(5 * 5).reshape(5, 5)"
   ]
  },
  {
   "cell_type": "markdown",
   "metadata": {},
   "source": [
    "# Select the top left square."
   ]
  },
  {
   "cell_type": "code",
   "execution_count": 13,
   "metadata": {},
   "outputs": [],
   "source": [
    "array = np.arange(20 * 20).reshape(20, 20)"
   ]
  },
  {
   "cell_type": "markdown",
   "metadata": {},
   "source": [
    "# Select the last 5 rows from every other column."
   ]
  },
  {
   "cell_type": "code",
   "execution_count": 15,
   "metadata": {},
   "outputs": [],
   "source": [
    "array = np.arange(20 * 20).reshape(20, 20)"
   ]
  },
  {
   "cell_type": "markdown",
   "metadata": {},
   "source": [
    "# Select all the positive values."
   ]
  },
  {
   "cell_type": "code",
   "execution_count": 10,
   "metadata": {},
   "outputs": [],
   "source": [
    "array = rand.normal(0, 1, 50)"
   ]
  },
  {
   "cell_type": "markdown",
   "metadata": {},
   "source": [
    "# Select all values greater than 1.5 or less than -1."
   ]
  },
  {
   "cell_type": "code",
   "execution_count": 19,
   "metadata": {},
   "outputs": [],
   "source": [
    "array = rand.normal(0, 1, 50)"
   ]
  },
  {
   "cell_type": "markdown",
   "metadata": {},
   "source": [
    "# Select all positive values from the array. Any index where a negative occurred should be 0."
   ]
  },
  {
   "cell_type": "code",
   "execution_count": null,
   "metadata": {},
   "outputs": [],
   "source": [
    "np.where?"
   ]
  },
  {
   "cell_type": "markdown",
   "metadata": {},
   "source": [
    "# Numpy fizzbuzz!\n",
    "\n",
    "- if the element is divisible by 3: the index should hold -1\n",
    "- if the element is divisible by 5: the index should hold -2\n",
    "- if the element is divisible by 15, the index should hold -3\n",
    "- otherwise: the index should hold the original integer"
   ]
  },
  {
   "cell_type": "code",
   "execution_count": 24,
   "metadata": {},
   "outputs": [
    {
     "data": {
      "text/plain": [
       "array([ 1,  2, -1,  4, -2, -1,  7,  8, -1, -2, 11, -1, 13, 14, -3, 16, 17,\n",
       "       -1, 19, -2, -1, 22, 23, -1, -2, 26, -1, 28, 29, -3, 31, 32, -1, 34,\n",
       "       -2, -1, 37, 38, -1, -2, 41, -1, 43, 44, -3, 46, 47, -1, 49, -2, -1,\n",
       "       52, 53, -1, -2, 56, -1, 58, 59, -3, 61, 62, -1, 64, -2, -1, 67, 68,\n",
       "       -1, -2, 71, -1, 73, 74, -3, 76, 77, -1, 79, -2, -1, 82, 83, -1, -2,\n",
       "       86, -1, 88, 89, -3, 91, 92, -1, 94, -2, -1, 97, 98, -1, -2])"
      ]
     },
     "execution_count": 24,
     "metadata": {},
     "output_type": "execute_result"
    }
   ],
   "source": [
    "array = np.arange(1, 101)\n",
    "np.select?"
   ]
  }
 ],
 "metadata": {
  "kernelspec": {
   "display_name": "Python 3",
   "language": "python",
   "name": "python3"
  },
  "language_info": {
   "codemirror_mode": {
    "name": "ipython",
    "version": 3
   },
   "file_extension": ".py",
   "mimetype": "text/x-python",
   "name": "python",
   "nbconvert_exporter": "python",
   "pygments_lexer": "ipython3",
   "version": "3.6.5"
  }
 },
 "nbformat": 4,
 "nbformat_minor": 2
}
