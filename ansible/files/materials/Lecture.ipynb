{
 "cells": [
  {
   "cell_type": "code",
   "execution_count": 39,
   "metadata": {
    "autoscroll": false,
    "ein.tags": "worksheet-0",
    "slideshow": {
     "slide_type": "skip"
    }
   },
   "outputs": [
    {
     "name": "stdout",
     "output_type": "stream",
     "text": [
      "The fortranmagic extension is already loaded. To reload it, use:\n",
      "  %reload_ext fortranmagic\n"
     ]
    }
   ],
   "source": [
    "%matplotlib inline\n",
    "%load_ext fortranmagic\n",
    "\n",
    "import pandas as pd\n",
    "import numpy as np\n",
    "import matplotlib as mpl\n",
    "import matplotlib.pyplot as plt\n",
    "import seaborn as sns\n",
    "\n",
    "mpl.rc('figure', figsize=(12, 7))\n",
    "\n",
    "ran_the_first_cell = True"
   ]
  },
  {
   "cell_type": "markdown",
   "metadata": {
    "ein.tags": "worksheet-0",
    "slideshow": {
     "slide_type": "slide"
    }
   },
   "source": [
    "<center>\n",
    "  <h1>Foundations of Numerical Computing</h1>\n",
    "  <h3>Scott Sanderson (GitHub: [@ssanderson](https://github.com/ssanderson), Twitter: [@scottbsanderson](https://twitter.com/scottbsanderson) )</h3>\n",
    "  <h3>[https://github.com/ssanderson/foundations-of-numerical-computing](https://github.com/ssanderson/foundations-of-numerical-computing)</h3>\n",
    "</center>"
   ]
  },
  {
   "cell_type": "markdown",
   "metadata": {
    "collapsed": true,
    "ein.tags": "worksheet-0",
    "slideshow": {
     "slide_type": "slide"
    }
   },
   "source": [
    "# About Me:\n",
    "\n",
    "- Senior Engineer at [Quantopian](www.quantopian.com)\n",
    "- I build tools for strangers on the internet to write quantitative trading strategies in Python.\n",
    "- Most of those tools are built on top of numpy."
   ]
  },
  {
   "cell_type": "markdown",
   "metadata": {
    "slideshow": {
     "slide_type": "slide"
    }
   },
   "source": [
    "## Introduction\n",
    "\n",
    "The goal of this tutorial is help you effectively solve numerically-intensive problems in Python.\n",
    "\n",
    "In practice, doing numerical programming in Python means using [`numpy`](http://www.numpy.org/) (or a library built on top of `numpy`).\n",
    "\n",
    "Using `numpy` effectively requires changing the way that you think about and solve problems.  TODO: Sentence here?"
   ]
  },
  {
   "cell_type": "markdown",
   "metadata": {
    "slideshow": {
     "slide_type": "slide"
    }
   },
   "source": [
    "## Educational Philosophy\n",
    "\n",
    "TODO: Fill this in.\n",
    "\n",
    "Programming problems require two kinds of knowledge:\n",
    "\n",
    "- **Foundational Knowledge**\n",
    "- **Domain Knowledge**\n",
    "\n",
    "- Foundational Knowledge can be applicable across a wide variety of domains\n",
    "- Domain Knowledge tends to be more limited in applicability (but it's crucial when it applies!)"
   ]
  },
  {
   "cell_type": "markdown",
   "metadata": {
    "slideshow": {
     "slide_type": "slide"
    }
   },
   "source": [
    "# Data Structures"
   ]
  },
  {
   "cell_type": "markdown",
   "metadata": {
    "slideshow": {
     "slide_type": "subslide"
    }
   },
   "source": [
    "> Rule 5. Data dominates. If you've chosen the right data structures and organized things well, the algorithms\n",
    "will almost always be self-evident. Data structures, not algorithms, are central to programming.\n",
    "\n",
    "- *Notes on Programming in C*, by Rob Pike."
   ]
  },
  {
   "cell_type": "markdown",
   "metadata": {
    "slideshow": {
     "slide_type": "slide"
    }
   },
   "source": [
    "# Review: Python Lists"
   ]
  },
  {
   "cell_type": "code",
   "execution_count": 40,
   "metadata": {
    "slideshow": {
     "slide_type": "slide"
    }
   },
   "outputs": [],
   "source": [
    "assert ran_the_first_cell, \"You need to run the first cell!\""
   ]
  },
  {
   "cell_type": "code",
   "execution_count": 41,
   "metadata": {
    "slideshow": {
     "slide_type": "subslide"
    }
   },
   "outputs": [
    {
     "data": {
      "text/plain": [
       "[1, 'two', 3.0, 4, 5.0, 'six']"
      ]
     },
     "execution_count": 41,
     "metadata": {},
     "output_type": "execute_result"
    }
   ],
   "source": [
    "l = [1, 'two', 3.0, 4, 5.0, \"six\"]\n",
    "l"
   ]
  },
  {
   "cell_type": "code",
   "execution_count": 42,
   "metadata": {
    "slideshow": {
     "slide_type": "subslide"
    }
   },
   "outputs": [
    {
     "name": "stdout",
     "output_type": "stream",
     "text": [
      "first: 1\n",
      "second: two\n"
     ]
    }
   ],
   "source": [
    "# Lists can be indexed like C-style arrays.\n",
    "first = l[0]\n",
    "second = l[1]\n",
    "print(\"first:\", first)\n",
    "print(\"second:\", second)"
   ]
  },
  {
   "cell_type": "code",
   "execution_count": 43,
   "metadata": {
    "slideshow": {
     "slide_type": "subslide"
    }
   },
   "outputs": [
    {
     "name": "stdout",
     "output_type": "stream",
     "text": [
      "last: six\n",
      "second to last: 5.0\n"
     ]
    }
   ],
   "source": [
    "# Negative indexing gives elements relative to the end of the list.\n",
    "last = l[-1]\n",
    "penultimate = l[-2]\n",
    "print(\"last:\", last)\n",
    "print(\"second to last:\", penultimate)"
   ]
  },
  {
   "cell_type": "code",
   "execution_count": 44,
   "metadata": {
    "slideshow": {
     "slide_type": "subslide"
    }
   },
   "outputs": [
    {
     "data": {
      "text/plain": [
       "['two', 3.0]"
      ]
     },
     "execution_count": 44,
     "metadata": {},
     "output_type": "execute_result"
    }
   ],
   "source": [
    "# Lists can also be sliced, which makes a copy of elements between \n",
    "# start (inclusive) and stop (exclusive)\n",
    "sublist = l[1:3]\n",
    "sublist"
   ]
  },
  {
   "cell_type": "code",
   "execution_count": 45,
   "metadata": {
    "slideshow": {
     "slide_type": "subslide"
    }
   },
   "outputs": [
    {
     "data": {
      "text/plain": [
       "[1, 'two', 3.0]"
      ]
     },
     "execution_count": 45,
     "metadata": {},
     "output_type": "execute_result"
    }
   ],
   "source": [
    "# l[:N] is equivalent to l[0:N].\n",
    "first_three = l[:3]\n",
    "first_three"
   ]
  },
  {
   "cell_type": "code",
   "execution_count": 46,
   "metadata": {
    "slideshow": {
     "slide_type": "fragment"
    }
   },
   "outputs": [
    {
     "data": {
      "text/plain": [
       "[4, 5.0, 'six']"
      ]
     },
     "execution_count": 46,
     "metadata": {},
     "output_type": "execute_result"
    }
   ],
   "source": [
    "# l[3:] is equivalent to l[3:len(l)].\n",
    "after_three = l[3:]\n",
    "after_three"
   ]
  },
  {
   "cell_type": "code",
   "execution_count": 47,
   "metadata": {
    "slideshow": {
     "slide_type": "subslide"
    }
   },
   "outputs": [
    {
     "data": {
      "text/plain": [
       "['b', 'd', 'f']"
      ]
     },
     "execution_count": 47,
     "metadata": {},
     "output_type": "execute_result"
    }
   ],
   "source": [
    "# There's also a third parameter, \"step\", which gets every Nth element.\n",
    "l = ['a', 'b', 'c', 'd', 'e', 'f', 'g','h']\n",
    "l[1:7:2]"
   ]
  },
  {
   "cell_type": "code",
   "execution_count": 49,
   "metadata": {},
   "outputs": [
    {
     "data": {
      "text/plain": [
       "['h', 'g', 'f', 'e', 'd', 'c', 'b', 'a']"
      ]
     },
     "execution_count": 49,
     "metadata": {},
     "output_type": "execute_result"
    }
   ],
   "source": [
    "# Indexing with a step of -1 is a cute way to reverse a list.\n",
    "l[::-1]"
   ]
  },
  {
   "cell_type": "code",
   "execution_count": 11,
   "metadata": {
    "slideshow": {
     "slide_type": "subslide"
    }
   },
   "outputs": [
    {
     "name": "stdout",
     "output_type": "stream",
     "text": [
      "Before: [1, 2, 3, 4, 5]\n",
      "After: [1, 2, 3, 4, 5, 'six']\n"
     ]
    }
   ],
   "source": [
    "# Lists can be grown efficiently (in O(1) amortized time).\n",
    "l = [1, 2, 3, 4, 5]\n",
    "print(\"Before:\", l)\n",
    "l.append('six')\n",
    "print(\"After:\", l)"
   ]
  },
  {
   "cell_type": "code",
   "execution_count": 12,
   "metadata": {
    "slideshow": {
     "slide_type": "subslide"
    }
   },
   "outputs": [
    {
     "data": {
      "text/plain": [
       "[2, 4, 6, 8, 10]"
      ]
     },
     "execution_count": 12,
     "metadata": {},
     "output_type": "execute_result"
    }
   ],
   "source": [
    "# Comprehensions let us perform elementwise computations.\n",
    "l = [1, 2, 3, 4, 5]\n",
    "[x * 2 for x in l]"
   ]
  },
  {
   "cell_type": "markdown",
   "metadata": {
    "ein.tags": "worksheet-0",
    "slideshow": {
     "slide_type": "subslide"
    }
   },
   "source": [
    "## Review of Review: Python Lists\n",
    "\n",
    "- Zero-indexed sequence of values.\n",
    "- Can hold values of different types in a single list.\n",
    "- Slicing syntax: `l[start:stop:step]` copies elements at regular intervals from `start` to `stop`.\n",
    "- Efficient (`O(1)`) appends and removes from end.\n",
    "- Comprehension syntax: `[f(x) for x in l if cond(x)]`."
   ]
  },
  {
   "cell_type": "markdown",
   "metadata": {
    "slideshow": {
     "slide_type": "slide"
    }
   },
   "source": [
    "<center><img src=\"images/pacino.gif\" alt=\"Drawing\" style=\"width: 100%;\"/></center>"
   ]
  },
  {
   "cell_type": "markdown",
   "metadata": {
    "slideshow": {
     "slide_type": "slide"
    }
   },
   "source": [
    "## Numerical Programming in Pure Python"
   ]
  },
  {
   "cell_type": "code",
   "execution_count": 7,
   "metadata": {
    "slideshow": {
     "slide_type": "subslide"
    }
   },
   "outputs": [],
   "source": [
    "# Suppose we have some matrices...\n",
    "a = [[1, 2, 3],\n",
    "     [2, 3, 4],\n",
    "     [5, 6, 7],\n",
    "     [1, 1, 1]]\n",
    "\n",
    "b = [[1, 2, 3, 4],\n",
    "     [2, 3, 4, 5]]"
   ]
  },
  {
   "cell_type": "code",
   "execution_count": 50,
   "metadata": {
    "slideshow": {
     "slide_type": "subslide"
    }
   },
   "outputs": [
    {
     "data": {
      "text/plain": [
       "[[5, 8, 11, 14], [8, 13, 18, 23], [17, 28, 39, 50], [3, 5, 7, 9]]"
      ]
     },
     "execution_count": 50,
     "metadata": {},
     "output_type": "execute_result"
    }
   ],
   "source": [
    "def matmul(A, B):\n",
    "    \"\"\"Multiply matrix A by matrix B.\"\"\"\n",
    "    \n",
    "    rows_out = len(A)\n",
    "    cols_out = len(B[0])\n",
    "    out = [[0 for col in range(cols_out)] for row in range(rows_out)]\n",
    "    \n",
    "    for i in range(rows_out):\n",
    "        for j in range(cols_out):\n",
    "            for k in range(len(B)):\n",
    "                out[i][j] += A[i][k] * B[k][j]\n",
    "    return out\n",
    "\n",
    "matmul(a, b)"
   ]
  },
  {
   "cell_type": "markdown",
   "metadata": {
    "slideshow": {
     "slide_type": "subslide"
    }
   },
   "source": [
    "<center><img src=\"images/gross.gif\" alt=\"Drawing\" style=\"width: 50%;\"/></center>\n"
   ]
  },
  {
   "cell_type": "code",
   "execution_count": 23,
   "metadata": {
    "slideshow": {
     "slide_type": "subslide"
    }
   },
   "outputs": [
    {
     "name": "stdout",
     "output_type": "stream",
     "text": [
      "CPU times: user 20 µs, sys: 1 µs, total: 21 µs\n",
      "Wall time: 23.4 µs\n"
     ]
    },
    {
     "data": {
      "text/plain": [
       "[[5, 8, 11, 14], [8, 13, 18, 23], [17, 28, 39, 50], [3, 5, 7, 9]]"
      ]
     },
     "execution_count": 23,
     "metadata": {},
     "output_type": "execute_result"
    }
   ],
   "source": [
    "%%time\n",
    "matmul(a, b)"
   ]
  },
  {
   "cell_type": "code",
   "execution_count": 53,
   "metadata": {
    "slideshow": {
     "slide_type": "subslide"
    }
   },
   "outputs": [
    {
     "data": {
      "text/plain": [
       "[[0.3069394355442745, 0.24161151820144178, 0.6652130044201517],\n",
       " [0.43958386353564427, 0.5021999929762764, 0.9361093295784033]]"
      ]
     },
     "execution_count": 53,
     "metadata": {},
     "output_type": "execute_result"
    }
   ],
   "source": [
    "import random\n",
    "def random_matrix(m, n):\n",
    "    out = []\n",
    "    for row in range(m):\n",
    "        out.append([random.random() for _ in range(n)])\n",
    "    return out\n",
    "\n",
    "randm = random_matrix(2, 3)\n",
    "randm"
   ]
  },
  {
   "cell_type": "code",
   "execution_count": 25,
   "metadata": {
    "slideshow": {
     "slide_type": "subslide"
    }
   },
   "outputs": [
    {
     "name": "stdout",
     "output_type": "stream",
     "text": [
      "CPU times: user 4.08 s, sys: 2.8 ms, total: 4.09 s\n",
      "Wall time: 4.08 s\n"
     ]
    }
   ],
   "source": [
    "%%time\n",
    "randa = random_matrix(500, 100)\n",
    "randb = random_matrix(100, 500)\n",
    "x = matmul(randa, randb)"
   ]
  },
  {
   "cell_type": "code",
   "execution_count": 26,
   "metadata": {
    "slideshow": {
     "slide_type": "subslide"
    }
   },
   "outputs": [],
   "source": [
    "# Maybe that's as good as we can do?  Let's try a simpler case.\n",
    "def python_dot_product(xs, ys):\n",
    "    return sum(x * y for x, y in zip(xs, ys))"
   ]
  },
  {
   "cell_type": "code",
   "execution_count": 54,
   "metadata": {
    "slideshow": {
     "slide_type": "fragment"
    }
   },
   "outputs": [],
   "source": [
    "%%fortran\n",
    "subroutine fortran_dot_product(xs, ys, result)\n",
    "    double precision, intent(in) :: xs(:)\n",
    "    double precision, intent(in) :: ys(:)\n",
    "    double precision, intent(out) :: result\n",
    "    \n",
    "    result = sum(xs * ys)\n",
    "end"
   ]
  },
  {
   "cell_type": "code",
   "execution_count": 55,
   "metadata": {
    "slideshow": {
     "slide_type": "subslide"
    }
   },
   "outputs": [],
   "source": [
    "list_data = [float(i) for i in range(100000)]\n",
    "array_data = np.array(list_data)"
   ]
  },
  {
   "cell_type": "code",
   "execution_count": 56,
   "metadata": {
    "slideshow": {
     "slide_type": "fragment"
    }
   },
   "outputs": [
    {
     "name": "stdout",
     "output_type": "stream",
     "text": [
      "CPU times: user 7.87 ms, sys: 0 ns, total: 7.87 ms\n",
      "Wall time: 7.81 ms\n"
     ]
    },
    {
     "data": {
      "text/plain": [
       "333328333350000.0"
      ]
     },
     "execution_count": 56,
     "metadata": {},
     "output_type": "execute_result"
    }
   ],
   "source": [
    "%%time\n",
    "python_dot_product(list_data, list_data)"
   ]
  },
  {
   "cell_type": "code",
   "execution_count": 57,
   "metadata": {
    "slideshow": {
     "slide_type": "fragment"
    }
   },
   "outputs": [
    {
     "name": "stdout",
     "output_type": "stream",
     "text": [
      "CPU times: user 133 µs, sys: 5 µs, total: 138 µs\n",
      "Wall time: 141 µs\n"
     ]
    },
    {
     "data": {
      "text/plain": [
       "333328333350000.0"
      ]
     },
     "execution_count": 57,
     "metadata": {},
     "output_type": "execute_result"
    }
   ],
   "source": [
    "%%time\n",
    "fortran_dot_product(array_data, array_data)"
   ]
  },
  {
   "cell_type": "markdown",
   "metadata": {
    "slideshow": {
     "slide_type": "slide"
    }
   },
   "source": [
    "<center><img src=\"images/sloth.gif\" alt=\"Drawing\" style=\"width: 1080px;\"/></center>"
   ]
  },
  {
   "cell_type": "markdown",
   "metadata": {
    "slideshow": {
     "slide_type": "slide"
    }
   },
   "source": [
    "## Why is the Python Version so Much Slower?"
   ]
  },
  {
   "cell_type": "code",
   "execution_count": 62,
   "metadata": {
    "slideshow": {
     "slide_type": "subslide"
    }
   },
   "outputs": [
    {
     "data": {
      "text/plain": [
       "[int, complex, float, str]"
      ]
     },
     "execution_count": 62,
     "metadata": {},
     "output_type": "execute_result"
    }
   ],
   "source": [
    "# Dynamic typing.\n",
    "def multiply_elementwise(xs, ys):\n",
    "    return [x * y for x, y in zip(xs, ys)]\n",
    "\n",
    "multiply_elementwise([1, 2, 3, 4], [1, 2 + 0j, 3.0, 'four'])\n",
    "#[type(x) for x in _]"
   ]
  },
  {
   "cell_type": "code",
   "execution_count": 59,
   "metadata": {
    "slideshow": {
     "slide_type": "subslide"
    }
   },
   "outputs": [
    {
     "name": "stdout",
     "output_type": "stream",
     "text": [
      "  1           0 LOAD_NAME                0 (a)\n",
      "              3 LOAD_NAME                1 (b)\n",
      "              6 LOAD_NAME                2 (c)\n",
      "              9 BINARY_MULTIPLY\n",
      "             10 BINARY_ADD\n",
      "             11 RETURN_VALUE\n"
     ]
    }
   ],
   "source": [
    "# Interpretation overhead.\n",
    "source_code = 'a + b * c'\n",
    "bytecode = compile(source_code, '', 'eval')\n",
    "import dis; dis.dis(bytecode)"
   ]
  },
  {
   "cell_type": "markdown",
   "metadata": {
    "slideshow": {
     "slide_type": "slide"
    }
   },
   "source": [
    "## Review: Why is the Python Version so Slow?\n",
    "- Dynamic typing means that every single operation requires dispatching on the input type.\n",
    "- Having an interpreter means that every instruction is fetched and dispatched at runtime.\n",
    "- Other overheads:\n",
    "  - Arbitrary-size integers.\n",
    "  - Reference-counted garbage collection."
   ]
  },
  {
   "cell_type": "markdown",
   "metadata": {
    "slideshow": {
     "slide_type": "subslide"
    }
   },
   "source": [
    "> This is the paradox that we have to work with when we're doing scientific or numerically-intensive Python. What makes Python fast for development -- this high-level, interpreted, and dynamically-typed aspect of the language -- is exactly what makes it slow for code execution.\n",
    "\n",
    "- Jake VanderPlas, [*Losing Your Loops: Fast Numerical Computing with NumPy*](https://www.youtube.com/watch?v=EEUXKG97YRw)"
   ]
  },
  {
   "cell_type": "markdown",
   "metadata": {
    "slideshow": {
     "slide_type": "slide"
    }
   },
   "source": [
    "# What Do We Do?"
   ]
  },
  {
   "cell_type": "markdown",
   "metadata": {
    "slideshow": {
     "slide_type": "subslide"
    }
   },
   "source": [
    "<center><img src=\"images/runaway.gif\" alt=\"Drawing\" style=\"width: 50%;\"/></center>"
   ]
  },
  {
   "cell_type": "markdown",
   "metadata": {
    "slideshow": {
     "slide_type": "subslide"
    }
   },
   "source": [
    "<center><img src=\"images/thisisfine.gif\" alt=\"Drawing\" style=\"width: 1080px;\"/></center>"
   ]
  },
  {
   "cell_type": "markdown",
   "metadata": {
    "slideshow": {
     "slide_type": "slide"
    }
   },
   "source": [
    "- Normal Python is slow for numerical computation because it performs dynamic dispatch on every operation we perform..."
   ]
  },
  {
   "cell_type": "markdown",
   "metadata": {
    "collapsed": true,
    "slideshow": {
     "slide_type": "fragment"
    }
   },
   "source": [
    "- ...but often, we just want to do the same thing over and over in a loop!"
   ]
  },
  {
   "cell_type": "markdown",
   "metadata": {
    "slideshow": {
     "slide_type": "fragment"
    }
   },
   "source": [
    "- If we don't need Python's dynamicism, can we find a way to not pay (much) for it?"
   ]
  },
  {
   "cell_type": "markdown",
   "metadata": {
    "slideshow": {
     "slide_type": "slide"
    }
   },
   "source": [
    "- **Idea:** Dispatch **once per logical operation** instead of **once per element**."
   ]
  },
  {
   "cell_type": "markdown",
   "metadata": {
    "slideshow": {
     "slide_type": "slide"
    }
   },
   "source": [
    "# Numpy"
   ]
  },
  {
   "cell_type": "code",
   "execution_count": 189,
   "metadata": {
    "slideshow": {
     "slide_type": "slide"
    }
   },
   "outputs": [
    {
     "name": "stdout",
     "output_type": "stream",
     "text": [
      "Data: [1 2 3 4 5 6 7 8]\n",
      "===========\n",
      "DType: int64\n",
      "Shape: (8,)\n"
     ]
    }
   ],
   "source": [
    "import numpy as np\n",
    "\n",
    "data = np.array([1, 2, 3, 4, 5, 6, 7, 8])\n",
    "\n",
    "print(\"Data:\", data)\n",
    "print(\"===========\")\n",
    "print(\"DType:\", data.dtype)\n",
    "print(\"Shape:\", data.shape)"
   ]
  },
  {
   "cell_type": "code",
   "execution_count": 113,
   "metadata": {
    "slideshow": {
     "slide_type": "fragment"
    }
   },
   "outputs": [
    {
     "data": {
      "text/plain": [
       "array([ 2,  4,  6,  8, 10, 12, 14, 16])"
      ]
     },
     "execution_count": 113,
     "metadata": {},
     "output_type": "execute_result"
    }
   ],
   "source": [
    "# Numpy provides operators that \"vectorize\" over the entire array.\n",
    "data + data"
   ]
  },
  {
   "cell_type": "code",
   "execution_count": 114,
   "metadata": {
    "slideshow": {
     "slide_type": "subslide"
    }
   },
   "outputs": [
    {
     "name": "stdout",
     "output_type": "stream",
     "text": [
      "CPU times: user 569 µs, sys: 28 µs, total: 597 µs\n",
      "Wall time: 316 µs\n"
     ]
    },
    {
     "data": {
      "text/plain": [
       "333328333350000.0"
      ]
     },
     "execution_count": 114,
     "metadata": {},
     "output_type": "execute_result"
    }
   ],
   "source": [
    "%%time\n",
    "# Naive dot product\n",
    "(array_data * array_data).sum()"
   ]
  },
  {
   "cell_type": "code",
   "execution_count": 115,
   "metadata": {
    "slideshow": {
     "slide_type": "fragment"
    }
   },
   "outputs": [
    {
     "name": "stdout",
     "output_type": "stream",
     "text": [
      "CPU times: user 240 µs, sys: 12 µs, total: 252 µs\n",
      "Wall time: 149 µs\n"
     ]
    },
    {
     "data": {
      "text/plain": [
       "333328333350000.0"
      ]
     },
     "execution_count": 115,
     "metadata": {},
     "output_type": "execute_result"
    }
   ],
   "source": [
    "%%time\n",
    "# Built-in dot product.\n",
    "array_data.dot(array_data)"
   ]
  },
  {
   "cell_type": "code",
   "execution_count": 116,
   "metadata": {
    "slideshow": {
     "slide_type": "fragment"
    }
   },
   "outputs": [
    {
     "name": "stdout",
     "output_type": "stream",
     "text": [
      "CPU times: user 105 µs, sys: 5 µs, total: 110 µs\n",
      "Wall time: 113 µs\n"
     ]
    },
    {
     "data": {
      "text/plain": [
       "333328333350000.0"
      ]
     },
     "execution_count": 116,
     "metadata": {},
     "output_type": "execute_result"
    }
   ],
   "source": [
    "%%time\n",
    "fortran_dot_product(array_data, array_data)"
   ]
  },
  {
   "cell_type": "code",
   "execution_count": 117,
   "metadata": {
    "slideshow": {
     "slide_type": "subslide"
    }
   },
   "outputs": [
    {
     "ename": "ValueError",
     "evalue": "invalid literal for int() with base 10: 'foo'",
     "output_type": "error",
     "traceback": [
      "\u001b[0;31m---------------------------------------------------------------------------\u001b[0m",
      "\u001b[0;31mValueError\u001b[0m                                Traceback (most recent call last)",
      "\u001b[0;32m<ipython-input-117-1ae73c964fd5>\u001b[0m in \u001b[0;36m<module>\u001b[0;34m()\u001b[0m\n\u001b[1;32m      1\u001b[0m \u001b[0;31m# Numpy won't allow us to write a string into an int array.\u001b[0m\u001b[0;34m\u001b[0m\u001b[0;34m\u001b[0m\u001b[0m\n\u001b[0;32m----> 2\u001b[0;31m \u001b[0mdata\u001b[0m\u001b[0;34m[\u001b[0m\u001b[0;36m0\u001b[0m\u001b[0;34m]\u001b[0m \u001b[0;34m=\u001b[0m \u001b[0;34m\"foo\"\u001b[0m\u001b[0;34m\u001b[0m\u001b[0m\n\u001b[0m",
      "\u001b[0;31mValueError\u001b[0m: invalid literal for int() with base 10: 'foo'"
     ]
    }
   ],
   "source": [
    "# Numpy won't allow us to write a string into an int array.\n",
    "data[0] = \"foo\""
   ]
  },
  {
   "cell_type": "code",
   "execution_count": 118,
   "metadata": {
    "slideshow": {
     "slide_type": "subslide"
    }
   },
   "outputs": [
    {
     "ename": "AttributeError",
     "evalue": "'numpy.ndarray' object has no attribute 'append'",
     "output_type": "error",
     "traceback": [
      "\u001b[0;31m---------------------------------------------------------------------------\u001b[0m",
      "\u001b[0;31mAttributeError\u001b[0m                            Traceback (most recent call last)",
      "\u001b[0;32m<ipython-input-118-8cdaf5ab44b5>\u001b[0m in \u001b[0;36m<module>\u001b[0;34m()\u001b[0m\n\u001b[1;32m      1\u001b[0m \u001b[0;31m# We also can't grow an array once it's created.\u001b[0m\u001b[0;34m\u001b[0m\u001b[0;34m\u001b[0m\u001b[0m\n\u001b[0;32m----> 2\u001b[0;31m \u001b[0mdata\u001b[0m\u001b[0;34m.\u001b[0m\u001b[0mappend\u001b[0m\u001b[0;34m(\u001b[0m\u001b[0;36m3\u001b[0m\u001b[0;34m)\u001b[0m\u001b[0;34m\u001b[0m\u001b[0m\n\u001b[0m",
      "\u001b[0;31mAttributeError\u001b[0m: 'numpy.ndarray' object has no attribute 'append'"
     ]
    }
   ],
   "source": [
    "# We also can't grow an array once it's created.\n",
    "data.append(3)"
   ]
  },
  {
   "cell_type": "code",
   "execution_count": 123,
   "metadata": {},
   "outputs": [
    {
     "data": {
      "text/plain": [
       "array([[1, 2],\n",
       "       [3, 4],\n",
       "       [5, 6],\n",
       "       [7, 8]])"
      ]
     },
     "execution_count": 123,
     "metadata": {},
     "output_type": "execute_result"
    }
   ],
   "source": [
    "# We **can** reshape an array as long as the number of elements doesn't change.\n",
    "two_by_two = data.reshape(4, 2)\n",
    "two_by_two"
   ]
  },
  {
   "cell_type": "markdown",
   "metadata": {
    "slideshow": {
     "slide_type": "subslide"
    }
   },
   "source": [
    "Numpy arrays are:\n",
    "\n",
    "- Fixed-type"
   ]
  },
  {
   "cell_type": "markdown",
   "metadata": {
    "slideshow": {
     "slide_type": "fragment"
    }
   },
   "source": [
    "- Size-immutable"
   ]
  },
  {
   "cell_type": "markdown",
   "metadata": {
    "slideshow": {
     "slide_type": "fragment"
    }
   },
   "source": [
    "- Multi-dimensional"
   ]
  },
  {
   "cell_type": "markdown",
   "metadata": {
    "slideshow": {
     "slide_type": "fragment"
    }
   },
   "source": [
    "- Fast\\*"
   ]
  },
  {
   "cell_type": "markdown",
   "metadata": {
    "slideshow": {
     "slide_type": "fragment"
    }
   },
   "source": [
    "\\* If you use them correctly."
   ]
  },
  {
   "cell_type": "markdown",
   "metadata": {
    "slideshow": {
     "slide_type": "slide"
    }
   },
   "source": [
    "# Exercises - Finding Help and Measuring Performance"
   ]
  },
  {
   "cell_type": "markdown",
   "metadata": {
    "slideshow": {
     "slide_type": "slide"
    }
   },
   "source": [
    "## Solving Problems with Numpy - Overview\n",
    "\n",
    "Numpy can be fast because it allows us to specify operations to perform against an entire array.\n",
    "\n",
    "We can break down the tools provided by numpy into a few categories:\n",
    "\n",
    "1. Universal Functions (UFuncs)\n",
    "2. Selection\n",
    "3. Reductions\n",
    "4. Broadcasting\n",
    "\n",
    "Taken together, these operations form an expressive toolbox that can solve a diverse set of problems."
   ]
  },
  {
   "cell_type": "markdown",
   "metadata": {
    "slideshow": {
     "slide_type": "slide"
    }
   },
   "source": [
    "## Creating Arrays\n",
    "\n",
    "Numpy provides many functions for creating arrays.\n",
    "\n",
    "We'll be using the following functions throughout the tutorial:\n",
    "\n",
    "- `np.array`: Construct an array from a list of Python objects.\n",
    "- `np.arange`: Numpy equivalent of the `range` function.\n",
    "- `np.linspace`: Create an array from evenly-spaced points between two values.\n",
    "- `np.geomspace`: Create an array from logarithmically-spaced points between two values.\n",
    "- `np.full`/`np.ones`/`np.zeros`: Create an array of a given shape with a constant value.\n",
    "- `np.full_like`/`np.ones_like`/`np.zeros_like`: Same, but using the shape of another array."
   ]
  },
  {
   "cell_type": "markdown",
   "metadata": {
    "slideshow": {
     "slide_type": "subslide"
    }
   },
   "source": [
    "## Creating Arrays (cont'd)\n",
    "\n",
    "- `np.eye`/`np.identity`/`np.diag`: Arrays with values on the diagonal. Useful for linear algebra.\n",
    "- `np.random`: Randomly-generated values from various distributions.\n",
    "- `np.load`/`np.save`: Load and save values from disk.\n",
    "- `pandas.read_csv`: Read values from a CSV. Returns a [`pandas.DataFrame`](https://pandas.pydata.org/)."
   ]
  },
  {
   "cell_type": "code",
   "execution_count": null,
   "metadata": {},
   "outputs": [],
   "source": []
  },
  {
   "cell_type": "markdown",
   "metadata": {
    "slideshow": {
     "slide_type": "subslide"
    }
   },
   "source": [
    "## Exercise  - Creating Arrays"
   ]
  },
  {
   "cell_type": "markdown",
   "metadata": {
    "slideshow": {
     "slide_type": "slide"
    }
   },
   "source": [
    "## Solving Problems with Numpy - Universal Functions\n",
    "\n",
    "Universal functions (ufuncs) are functions that can be applied across one or more arrays of the same shape.\n",
    "\n",
    "They come in two main varieties:\n",
    "\n",
    "- **Unary UFuncs** apply a 1-argument function to every element of an array.\n",
    "- **Binary UFuncs** apply a 2-argument function to corresponding elements from two arrays."
   ]
  },
  {
   "cell_type": "code",
   "execution_count": 142,
   "metadata": {
    "slideshow": {
     "slide_type": "subslide"
    }
   },
   "outputs": [
    {
     "data": {
      "text/plain": [
       "array([[ 0,  1,  2,  3,  4],\n",
       "       [ 5,  6,  7,  8,  9],\n",
       "       [10, 11, 12, 13, 14]])"
      ]
     },
     "execution_count": 142,
     "metadata": {},
     "output_type": "execute_result"
    }
   ],
   "source": [
    "data = np.arange(15).reshape(3, 5)\n",
    "data"
   ]
  },
  {
   "cell_type": "code",
   "execution_count": 144,
   "metadata": {
    "slideshow": {
     "slide_type": "subslide"
    }
   },
   "outputs": [
    {
     "data": {
      "text/plain": [
       "array([[0.        , 1.        , 1.41421356, 1.73205081, 2.        ],\n",
       "       [2.23606798, 2.44948974, 2.64575131, 2.82842712, 3.        ],\n",
       "       [3.16227766, 3.31662479, 3.46410162, 3.60555128, 3.74165739]])"
      ]
     },
     "execution_count": 144,
     "metadata": {},
     "output_type": "execute_result"
    }
   ],
   "source": [
    "# Unary functions.\n",
    "np.sqrt(data)"
   ]
  },
  {
   "cell_type": "code",
   "execution_count": 145,
   "metadata": {
    "slideshow": {
     "slide_type": "subslide"
    }
   },
   "outputs": [
    {
     "data": {
      "text/plain": [
       "array([[  0,   1,   4,   9,  16],\n",
       "       [ 25,  36,  49,  64,  81],\n",
       "       [100, 121, 144, 169, 196]])"
      ]
     },
     "execution_count": 145,
     "metadata": {},
     "output_type": "execute_result"
    }
   ],
   "source": [
    "# Binary operators.\n",
    "data * data"
   ]
  },
  {
   "cell_type": "code",
   "execution_count": 146,
   "metadata": {
    "slideshow": {
     "slide_type": "subslide"
    }
   },
   "outputs": [
    {
     "data": {
      "text/plain": [
       "array([[ True, False, False,  True, False],\n",
       "       [False,  True, False, False,  True],\n",
       "       [False, False,  True, False, False]])"
      ]
     },
     "execution_count": 146,
     "metadata": {},
     "output_type": "execute_result"
    }
   ],
   "source": [
    "# Comparison operations\n",
    "(data % 3) == 0"
   ]
  },
  {
   "cell_type": "code",
   "execution_count": 147,
   "metadata": {
    "slideshow": {
     "slide_type": "subslide"
    }
   },
   "outputs": [
    {
     "data": {
      "text/plain": [
       "array([[ True, False, False, False, False],\n",
       "       [False,  True, False, False, False],\n",
       "       [False, False,  True, False, False]])"
      ]
     },
     "execution_count": 147,
     "metadata": {},
     "output_type": "execute_result"
    }
   ],
   "source": [
    "# Boolean combinators.\n",
    "((data % 2) == 0) & ((data % 3) == 0)"
   ]
  },
  {
   "cell_type": "code",
   "execution_count": 148,
   "metadata": {
    "slideshow": {
     "slide_type": "subslide"
    }
   },
   "outputs": [
    {
     "data": {
      "text/plain": [
       "array([[ 30,  80, 130],\n",
       "       [ 80, 255, 430],\n",
       "       [130, 430, 730]])"
      ]
     },
     "execution_count": 148,
     "metadata": {},
     "output_type": "execute_result"
    }
   ],
   "source": [
    "# as of python 3.5, @ is matrix-multiply\n",
    "data @ data.T"
   ]
  },
  {
   "cell_type": "markdown",
   "metadata": {
    "slideshow": {
     "slide_type": "subslide"
    }
   },
   "source": [
    "## UFunc Functions\n",
    "\n",
    "All binary operator ufuncs have a normal function version:\n",
    "\n",
    "- `+`,`-`,`*`,`/` are the same as `add`, `subtract`, `multiply`, `divide`\n",
    "- `&`, `|`, `^`, `~` are the same as `bitwise_and`, `bitwise_or`, `bitwise_xor`, `bitwise_not`"
   ]
  },
  {
   "cell_type": "markdown",
   "metadata": {
    "slideshow": {
     "slide_type": "subslide"
    }
   },
   "source": [
    "Binary ufuncs are equipped with methods that implement common algorithms in terms of the ufunc.\n",
    "\n",
    "- `reduce` computes a summary by inserting the binary operator between each element.\n",
    "- `accumulate` is like `reduce`, but it outputs the intermediate values.\n",
    "- `outer` computes the binary operator on every pair of elements from two arrays."
   ]
  },
  {
   "cell_type": "code",
   "execution_count": 185,
   "metadata": {},
   "outputs": [
    {
     "data": {
      "text/plain": [
       "array([[ -5,   1,   2,  -2,  -1,   1],\n",
       "       [ -5,   5, -10,   6,  -9,   2],\n",
       "       [ -3,   3,  -4,   8,  -5,   8]])"
      ]
     },
     "execution_count": 185,
     "metadata": {},
     "output_type": "execute_result"
    }
   ],
   "source": [
    "data = (np.random.RandomState(1).randint(-10, 10, 18).reshape(3, 6))\n",
    "data"
   ]
  },
  {
   "cell_type": "code",
   "execution_count": 186,
   "metadata": {},
   "outputs": [
    {
     "data": {
      "text/plain": [
       "array([[ -5,   1,   2,  -2,  -1,   1],\n",
       "       [-10,   6,  -8,   4, -10,   3],\n",
       "       [-13,   9, -12,  12, -15,  11]])"
      ]
     },
     "execution_count": 186,
     "metadata": {},
     "output_type": "execute_result"
    }
   ],
   "source": [
    "np.add.accumulate(data, axis=0)"
   ]
  },
  {
   "cell_type": "markdown",
   "metadata": {
    "slideshow": {
     "slide_type": "subslide"
    }
   },
   "source": [
    "# UFuncs Review\n",
    "\n",
    "- UFuncs provide efficient elementwise operations applied across one or more arrays.\n",
    "- Arithmetic Operators (`+`, `*`, `/`)\n",
    "- Comparisons (`==`, `>`, `!=`)\n",
    "- Boolean Operators (`&`, `|`, `^`)\n",
    "- Trigonometric Functions (`sin`, `cos`)\n",
    "- Transcendental Functions (`exp`, `log`)"
   ]
  },
  {
   "cell_type": "markdown",
   "metadata": {
    "slideshow": {
     "slide_type": "slide"
    }
   },
   "source": [
    "# UFuncs Exercises"
   ]
  },
  {
   "cell_type": "markdown",
   "metadata": {
    "slideshow": {
     "slide_type": "slide"
    }
   },
   "source": [
    "# Selections"
   ]
  },
  {
   "cell_type": "code",
   "execution_count": 137,
   "metadata": {
    "slideshow": {
     "slide_type": "subslide"
    }
   },
   "outputs": [
    {
     "data": {
      "text/plain": [
       "array([0.        , 0.34185385, 0.64251645, 0.86575984, 0.98468459,\n",
       "       0.98496101, 0.8665558 , 0.64373604, 0.34335012, 0.00159265])"
      ]
     },
     "execution_count": 137,
     "metadata": {},
     "output_type": "execute_result"
    }
   ],
   "source": [
    "sines = np.sin(np.linspace(0, 3.14, 10))\n",
    "cosines = np.cos(np.linspace(0, 3.14, 10))\n",
    "sines"
   ]
  },
  {
   "cell_type": "code",
   "execution_count": 138,
   "metadata": {
    "slideshow": {
     "slide_type": "subslide"
    }
   },
   "outputs": [
    {
     "data": {
      "text/plain": [
       "0.0"
      ]
     },
     "execution_count": 138,
     "metadata": {},
     "output_type": "execute_result"
    }
   ],
   "source": [
    "# Slicing works with the same semantics as Python lists.\n",
    "sines[0]"
   ]
  },
  {
   "cell_type": "code",
   "execution_count": 139,
   "metadata": {
    "slideshow": {
     "slide_type": "fragment"
    }
   },
   "outputs": [
    {
     "data": {
      "text/plain": [
       "array([0.        , 0.34185385, 0.64251645])"
      ]
     },
     "execution_count": 139,
     "metadata": {},
     "output_type": "execute_result"
    }
   ],
   "source": [
    "sines[:3]  # First three elements  "
   ]
  },
  {
   "cell_type": "code",
   "execution_count": 45,
   "metadata": {
    "slideshow": {
     "slide_type": "fragment"
    }
   },
   "outputs": [
    {
     "data": {
      "text/plain": [
       "array([ 0.98496101,  0.8665558 ,  0.64373604,  0.34335012,  0.00159265])"
      ]
     },
     "execution_count": 45,
     "metadata": {},
     "output_type": "execute_result"
    }
   ],
   "source": [
    "sines[5:]  # Elements from 5 on."
   ]
  },
  {
   "cell_type": "code",
   "execution_count": 46,
   "metadata": {
    "slideshow": {
     "slide_type": "fragment"
    }
   },
   "outputs": [
    {
     "data": {
      "text/plain": [
       "array([ 0.        ,  0.64251645,  0.98468459,  0.8665558 ,  0.34335012])"
      ]
     },
     "execution_count": 46,
     "metadata": {},
     "output_type": "execute_result"
    }
   ],
   "source": [
    "sines[::2]  # Every other element."
   ]
  },
  {
   "cell_type": "code",
   "execution_count": 47,
   "metadata": {
    "slideshow": {
     "slide_type": "subslide"
    }
   },
   "outputs": [
    {
     "name": "stdout",
     "output_type": "stream",
     "text": [
      "sines:\n",
      " [ 0.          0.34185385  0.64251645  0.86575984  0.98468459  0.98496101\n",
      "  0.8665558   0.64373604  0.34335012  0.00159265]\n",
      "sines > 0.5:\n",
      " [False False  True  True  True  True  True  True False False]\n",
      "sines[sines > 0.5]:\n",
      " [ 0.64251645  0.86575984  0.98468459  0.98496101  0.8665558   0.64373604]\n"
     ]
    }
   ],
   "source": [
    "# More interesting: we can index with boolean arrays to filter by a predicate.\n",
    "print(\"sines:\\n\", sines)\n",
    "print(\"sines > 0.5:\\n\", sines > 0.5)\n",
    "print(\"sines[sines > 0.5]:\\n\", sines[sines > 0.5])"
   ]
  },
  {
   "cell_type": "code",
   "execution_count": 48,
   "metadata": {
    "slideshow": {
     "slide_type": "subslide"
    }
   },
   "outputs": [
    {
     "name": "stdout",
     "output_type": "stream",
     "text": [
      "[ 0.          0.34185385  0.64251645  0.86575984  0.98468459  0.98496101\n",
      "  0.8665558   0.64373604  0.34335012  0.00159265]\n"
     ]
    },
    {
     "data": {
      "text/plain": [
       "array([ 0.        ,  0.98468459,  0.64373604])"
      ]
     },
     "execution_count": 48,
     "metadata": {},
     "output_type": "execute_result"
    }
   ],
   "source": [
    "# We index with lists/arrays of integers to select values at those indices.\n",
    "print(sines)\n",
    "sines[[0, 4, 7]]"
   ]
  },
  {
   "cell_type": "code",
   "execution_count": 49,
   "metadata": {
    "collapsed": true,
    "slideshow": {
     "slide_type": "subslide"
    }
   },
   "outputs": [],
   "source": [
    "# Index arrays are often used for sorting one or more arrays.\n",
    "unsorted_data = np.array([1, 3, 2, 12, -1, 5, 2])"
   ]
  },
  {
   "cell_type": "code",
   "execution_count": 50,
   "metadata": {
    "slideshow": {
     "slide_type": "fragment"
    }
   },
   "outputs": [
    {
     "data": {
      "text/plain": [
       "array([4, 0, 2, 6, 1, 5, 3])"
      ]
     },
     "execution_count": 50,
     "metadata": {},
     "output_type": "execute_result"
    }
   ],
   "source": [
    "sort_indices = np.argsort(unsorted_data)\n",
    "sort_indices"
   ]
  },
  {
   "cell_type": "code",
   "execution_count": 51,
   "metadata": {
    "slideshow": {
     "slide_type": "fragment"
    }
   },
   "outputs": [
    {
     "data": {
      "text/plain": [
       "array([-1,  1,  2,  2,  3,  5, 12])"
      ]
     },
     "execution_count": 51,
     "metadata": {},
     "output_type": "execute_result"
    }
   ],
   "source": [
    "unsorted_data[sort_indices]"
   ]
  },
  {
   "cell_type": "code",
   "execution_count": 52,
   "metadata": {
    "collapsed": true,
    "slideshow": {
     "slide_type": "subslide"
    }
   },
   "outputs": [],
   "source": [
    "prices = np.array([12, 6, 10, 5, 6])\n",
    "tickers = np.array(['A', 'B', 'C', 'D', 'E'])"
   ]
  },
  {
   "cell_type": "code",
   "execution_count": 53,
   "metadata": {
    "slideshow": {
     "slide_type": "fragment"
    }
   },
   "outputs": [
    {
     "data": {
      "text/plain": [
       "array(['D', 'B', 'E', 'C', 'A'],\n",
       "      dtype='<U1')"
      ]
     },
     "execution_count": 53,
     "metadata": {},
     "output_type": "execute_result"
    }
   ],
   "source": [
    "# Sort assets by price by using the permutation that would sort market caps on ``assets``.\n",
    "sorter = np.argsort(prices)\n",
    "tickers[sorter]"
   ]
  },
  {
   "cell_type": "code",
   "execution_count": 54,
   "metadata": {
    "scrolled": true,
    "slideshow": {
     "slide_type": "subslide"
    }
   },
   "outputs": [
    {
     "name": "stdout",
     "output_type": "stream",
     "text": [
      "Dates:\n",
      " array(['2017-01-06', '2017-01-07', '2017-01-08'], dtype='datetime64[D]')\n",
      "Values:\n",
      " array([10, 15, 20])\n",
      "Calendar:\n",
      " array(['2017-01-03', '2017-01-04', '2017-01-05', '2017-01-06',\n",
      "       '2017-01-09', '2017-01-10', '2017-01-11', '2017-01-12',\n",
      "       '2017-01-13', '2017-01-17', '2017-01-18', '2017-01-19',\n",
      "       '2017-01-20', '2017-01-23', '2017-01-24', '2017-01-25',\n",
      "       '2017-01-26', '2017-01-27', '2017-01-30', '2017-01-31', '2017-02-01'], dtype='datetime64[D]')\n"
     ]
    }
   ],
   "source": [
    "# Indexers are also useful for aligning data.\n",
    "print(\"Dates:\\n\", repr(event_dates))\n",
    "print(\"Values:\\n\", repr(event_values))\n",
    "print(\"Calendar:\\n\", repr(calendar))"
   ]
  },
  {
   "cell_type": "code",
   "execution_count": 55,
   "metadata": {
    "slideshow": {
     "slide_type": "fragment"
    }
   },
   "outputs": [
    {
     "name": "stdout",
     "output_type": "stream",
     "text": [
      "Raw Dates: ['2017-01-06' '2017-01-07' '2017-01-08']\n",
      "Indices: [3 4 4]\n",
      "Forward-Filled Dates: ['2017-01-06' '2017-01-09' '2017-01-09']\n"
     ]
    }
   ],
   "source": [
    "print(\"Raw Dates:\", event_dates)\n",
    "print(\"Indices:\", calendar.searchsorted(event_dates))\n",
    "print(\"Forward-Filled Dates:\", calendar[calendar.searchsorted(event_dates)])"
   ]
  },
  {
   "cell_type": "markdown",
   "metadata": {
    "slideshow": {
     "slide_type": "subslide"
    }
   },
   "source": [
    "On multi-dimensional arrays, we can slice along each axis independently."
   ]
  },
  {
   "cell_type": "code",
   "execution_count": 56,
   "metadata": {
    "slideshow": {
     "slide_type": "fragment"
    }
   },
   "outputs": [
    {
     "data": {
      "text/plain": [
       "array([[ 0,  1,  2,  3,  4],\n",
       "       [ 5,  6,  7,  8,  9],\n",
       "       [10, 11, 12, 13, 14],\n",
       "       [15, 16, 17, 18, 19],\n",
       "       [20, 21, 22, 23, 24]])"
      ]
     },
     "execution_count": 56,
     "metadata": {},
     "output_type": "execute_result"
    }
   ],
   "source": [
    "data = np.arange(25).reshape(5, 5)\n",
    "data"
   ]
  },
  {
   "cell_type": "code",
   "execution_count": 168,
   "metadata": {
    "slideshow": {
     "slide_type": "fragment"
    }
   },
   "outputs": [
    {
     "data": {
      "text/plain": [
       "array([10, 11, 12, 13, 14])"
      ]
     },
     "execution_count": 168,
     "metadata": {},
     "output_type": "execute_result"
    }
   ],
   "source": [
    "# Get the second row.\n",
    "data[1]"
   ]
  },
  {
   "cell_type": "code",
   "execution_count": 57,
   "metadata": {
    "slideshow": {
     "slide_type": "fragment"
    }
   },
   "outputs": [
    {
     "data": {
      "text/plain": [
       "array([[0, 1],\n",
       "       [5, 6]])"
      ]
     },
     "execution_count": 57,
     "metadata": {},
     "output_type": "execute_result"
    }
   ],
   "source": [
    "data[:2, :2]  # First two rows and first two columns."
   ]
  },
  {
   "cell_type": "code",
   "execution_count": 58,
   "metadata": {
    "slideshow": {
     "slide_type": "fragment"
    }
   },
   "outputs": [
    {
     "data": {
      "text/plain": [
       "array([[0, 4],\n",
       "       [5, 9]])"
      ]
     },
     "execution_count": 58,
     "metadata": {},
     "output_type": "execute_result"
    }
   ],
   "source": [
    "data[:2, [0, -1]]  # First two rows, first and last columns."
   ]
  },
  {
   "cell_type": "code",
   "execution_count": 59,
   "metadata": {
    "slideshow": {
     "slide_type": "subslide"
    }
   },
   "outputs": [
    {
     "data": {
      "text/plain": [
       "array([[ 0,  1,  2,  3,  4],\n",
       "       [10, 11, 12, 13, 14],\n",
       "       [20, 21, 22, 23, 24]])"
      ]
     },
     "execution_count": 59,
     "metadata": {},
     "output_type": "execute_result"
    }
   ],
   "source": [
    "data[(data[:, 0] % 2) == 0]  # Rows where the first column is divisible by two."
   ]
  },
  {
   "cell_type": "markdown",
   "metadata": {
    "slideshow": {
     "slide_type": "slide"
    }
   },
   "source": [
    "# Selections Review\n",
    "\n",
    "- Indexing with an integer removes a dimension.\n",
    "- Slicing operations work on Numpy arrays the same way they do on lists.\n",
    "- Indexing with a boolean array filters to True locations.\n",
    "- Indexing with an integer array selects indices along an axis.\n",
    "- Multidimensional arrays can apply selections independently along different axes."
   ]
  },
  {
   "cell_type": "markdown",
   "metadata": {
    "slideshow": {
     "slide_type": "slide"
    }
   },
   "source": [
    "# Selections Exercises"
   ]
  },
  {
   "cell_type": "markdown",
   "metadata": {
    "slideshow": {
     "slide_type": "slide"
    }
   },
   "source": [
    "## Reductions\n",
    "\n",
    "Functions that reduce an array to a scalar."
   ]
  },
  {
   "cell_type": "markdown",
   "metadata": {
    "slideshow": {
     "slide_type": "subslide"
    }
   },
   "source": [
    "$Var(X) = \\frac{1}{N}\\sqrt{\\sum_{i=1}^N (x_i - \\bar{x})^2}$"
   ]
  },
  {
   "cell_type": "code",
   "execution_count": 60,
   "metadata": {
    "collapsed": true,
    "slideshow": {
     "slide_type": "fragment"
    }
   },
   "outputs": [],
   "source": [
    "def variance(x):\n",
    "    return ((x - x.mean()) ** 2).sum() / len(x)"
   ]
  },
  {
   "cell_type": "code",
   "execution_count": 61,
   "metadata": {
    "slideshow": {
     "slide_type": "fragment"
    }
   },
   "outputs": [
    {
     "data": {
      "text/plain": [
       "1.0638195544963331"
      ]
     },
     "execution_count": 61,
     "metadata": {},
     "output_type": "execute_result"
    }
   ],
   "source": [
    "variance(np.random.standard_normal(1000))"
   ]
  },
  {
   "cell_type": "markdown",
   "metadata": {
    "slideshow": {
     "slide_type": "subslide"
    }
   },
   "source": [
    "- `sum()` and `mean()` are both **reductions**."
   ]
  },
  {
   "cell_type": "markdown",
   "metadata": {
    "slideshow": {
     "slide_type": "fragment"
    }
   },
   "source": [
    "- In the simplest case, we use these to reduce an entire array into a single value..."
   ]
  },
  {
   "cell_type": "code",
   "execution_count": 62,
   "metadata": {
    "slideshow": {
     "slide_type": "fragment"
    }
   },
   "outputs": [
    {
     "data": {
      "text/plain": [
       "14.5"
      ]
     },
     "execution_count": 62,
     "metadata": {},
     "output_type": "execute_result"
    }
   ],
   "source": [
    "data = np.arange(30)\n",
    "data.mean()"
   ]
  },
  {
   "cell_type": "markdown",
   "metadata": {
    "slideshow": {
     "slide_type": "subslide"
    }
   },
   "source": [
    "- ...but we can do more interesting things with multi-dimensional arrays."
   ]
  },
  {
   "cell_type": "code",
   "execution_count": 63,
   "metadata": {
    "slideshow": {
     "slide_type": "fragment"
    }
   },
   "outputs": [
    {
     "data": {
      "text/plain": [
       "array([[ 0,  1,  2,  3,  4,  5,  6,  7,  8,  9],\n",
       "       [10, 11, 12, 13, 14, 15, 16, 17, 18, 19],\n",
       "       [20, 21, 22, 23, 24, 25, 26, 27, 28, 29]])"
      ]
     },
     "execution_count": 63,
     "metadata": {},
     "output_type": "execute_result"
    }
   ],
   "source": [
    "data = np.arange(30).reshape(3, 10)\n",
    "data"
   ]
  },
  {
   "cell_type": "code",
   "execution_count": 64,
   "metadata": {
    "slideshow": {
     "slide_type": "fragment"
    }
   },
   "outputs": [
    {
     "data": {
      "text/plain": [
       "14.5"
      ]
     },
     "execution_count": 64,
     "metadata": {},
     "output_type": "execute_result"
    }
   ],
   "source": [
    "data.mean()"
   ]
  },
  {
   "cell_type": "code",
   "execution_count": 65,
   "metadata": {
    "slideshow": {
     "slide_type": "fragment"
    }
   },
   "outputs": [
    {
     "data": {
      "text/plain": [
       "array([ 10.,  11.,  12.,  13.,  14.,  15.,  16.,  17.,  18.,  19.])"
      ]
     },
     "execution_count": 65,
     "metadata": {},
     "output_type": "execute_result"
    }
   ],
   "source": [
    "data.mean(axis=0)"
   ]
  },
  {
   "cell_type": "code",
   "execution_count": 66,
   "metadata": {
    "slideshow": {
     "slide_type": "fragment"
    }
   },
   "outputs": [
    {
     "data": {
      "text/plain": [
       "array([  4.5,  14.5,  24.5])"
      ]
     },
     "execution_count": 66,
     "metadata": {},
     "output_type": "execute_result"
    }
   ],
   "source": [
    "data.mean(axis=1)"
   ]
  },
  {
   "cell_type": "markdown",
   "metadata": {
    "slideshow": {
     "slide_type": "subslide"
    }
   },
   "source": [
    "## Reductions Review\n",
    "\n",
    "- Reductions allow us to perform efficient aggregations over arrays.\n",
    "- We can do aggregations over a single axis to collapse a single dimension.\n",
    "- Many built-in reductions (`mean`, `sum`, `min`, `max`, `median`, ...)."
   ]
  },
  {
   "cell_type": "markdown",
   "metadata": {
    "slideshow": {
     "slide_type": "slide"
    }
   },
   "source": [
    "# Broadcasting"
   ]
  },
  {
   "cell_type": "code",
   "execution_count": 67,
   "metadata": {
    "slideshow": {
     "slide_type": "subslide"
    }
   },
   "outputs": [
    {
     "name": "stdout",
     "output_type": "stream",
     "text": [
      "Row:\n",
      "[1 2 3 4]\n",
      "Column:\n",
      "[[1]\n",
      " [2]\n",
      " [3]]\n"
     ]
    }
   ],
   "source": [
    "row = np.array([1, 2, 3, 4])\n",
    "column = np.array([[1], [2], [3]])\n",
    "print(\"Row:\\n\", row, sep='')\n",
    "print(\"Column:\\n\", column, sep='')"
   ]
  },
  {
   "cell_type": "code",
   "execution_count": 68,
   "metadata": {
    "slideshow": {
     "slide_type": "fragment"
    }
   },
   "outputs": [
    {
     "data": {
      "text/plain": [
       "array([[2, 3, 4, 5],\n",
       "       [3, 4, 5, 6],\n",
       "       [4, 5, 6, 7]])"
      ]
     },
     "execution_count": 68,
     "metadata": {},
     "output_type": "execute_result"
    }
   ],
   "source": [
    "row + column"
   ]
  },
  {
   "cell_type": "markdown",
   "metadata": {
    "slideshow": {
     "slide_type": "subslide"
    }
   },
   "source": [
    "<center><img src=\"images/broadcasting.png\" alt=\"Drawing\" style=\"width: 60%;\"/></center>\n",
    "\n",
    "<h5>Source: http://www.scipy-lectures.org/_images/numpy_broadcasting.png</h5>"
   ]
  },
  {
   "cell_type": "code",
   "execution_count": 69,
   "metadata": {
    "slideshow": {
     "slide_type": "subslide"
    }
   },
   "outputs": [
    {
     "name": "stdout",
     "output_type": "stream",
     "text": [
      "Data:\n",
      "[[ 0  1  2  3  4  5  6  7  8  9]\n",
      " [10 11 12 13 14 15 16 17 18 19]\n",
      " [20 21 22 23 24 25 26 27 28 29]]\n",
      "Mean:\n",
      "[ 10.  11.  12.  13.  14.  15.  16.  17.  18.  19.]\n",
      "Data - Mean:\n",
      "[[-10. -10. -10. -10. -10. -10. -10. -10. -10. -10.]\n",
      " [  0.   0.   0.   0.   0.   0.   0.   0.   0.   0.]\n",
      " [ 10.  10.  10.  10.  10.  10.  10.  10.  10.  10.]]\n"
     ]
    }
   ],
   "source": [
    "# Broadcasting is particularly useful in conjunction with reductions.\n",
    "print(\"Data:\\n\", data, sep='')\n",
    "print(\"Mean:\\n\", data.mean(axis=0), sep='')\n",
    "print(\"Data - Mean:\\n\", data - data.mean(axis=0), sep='')"
   ]
  },
  {
   "cell_type": "markdown",
   "metadata": {
    "slideshow": {
     "slide_type": "slide"
    }
   },
   "source": [
    "# Broadcasting Review\n",
    "\n",
    "- Numpy operations can work on arrays of different dimensions as long as the arrays' shapes are still \"compatible\".\n",
    "- Broadcasting works by \"tiling\" the smaller array along the missing dimension.\n",
    "- The result of a broadcasted operation is always at least as large in each dimension as the largest array in that dimension."
   ]
  },
  {
   "cell_type": "markdown",
   "metadata": {
    "slideshow": {
     "slide_type": "slide"
    }
   },
   "source": [
    "# Numpy Review"
   ]
  },
  {
   "cell_type": "markdown",
   "metadata": {
    "slideshow": {
     "slide_type": "fragment"
    }
   },
   "source": [
    "- Numerical algorithms are slow in pure Python because the overhead of interpretation and dynamic dispatch dominates our runtime."
   ]
  },
  {
   "cell_type": "markdown",
   "metadata": {
    "slideshow": {
     "slide_type": "fragment"
    }
   },
   "source": [
    "- Numpy solves this problem by:\n",
    "  1. Imposing additional restrictions on the contents of arrays.\n",
    "  2. Moving the inner loops of our algorithms into compiled C code."
   ]
  },
  {
   "cell_type": "markdown",
   "metadata": {
    "slideshow": {
     "slide_type": "fragment"
    }
   },
   "source": [
    "- Using Numpy effectively often requires reworking an algorithms to use vectorized operations instead of for-loops, but the resulting operations are usually simpler, clearer, and faster than the pure Python equivalent."
   ]
  },
  {
   "cell_type": "code",
   "execution_count": 188,
   "metadata": {
    "slideshow": {
     "slide_type": "subslide"
    }
   },
   "outputs": [
    {
     "name": "stdout",
     "output_type": "stream",
     "text": [
      "===========\n",
      "DType: int64\n",
      "Shape: (8,)\n",
      "Strides: (8,)\n",
      "Data: b'\\x01\\x00\\x00\\x00\\x00\\x00\\x00\\x00\\x02\\x00\\x00\\x00\\x00\\x00\\x00\\x00\\x03\\x00\\x00\\x00\\x00\\x00\\x00\\x00\\x04\\x00\\x00\\x00\\x00\\x00\\x00\\x00\\x05\\x00\\x00\\x00\\x00\\x00\\x00\\x00\\x06\\x00\\x00\\x00\\x00\\x00\\x00\\x00\\x07\\x00\\x00\\x00\\x00\\x00\\x00\\x00\\x08\\x00\\x00\\x00\\x00\\x00\\x00\\x00'\n"
     ]
    }
   ],
   "source": [
    "import numpy as np\n",
    "\n",
    "data = np.array([1, 2, 3, 4, 5, 6, 7, 8])\n",
    "data\n",
    "\n",
    "print(\"===========\")\n",
    "print(\"DType:\", data.dtype)\n",
    "print(\"Shape:\", data.shape)\n",
    "print(\"Strides:\", data.strides)\n",
    "print(\"Data:\", data.data.tobytes())"
   ]
  },
  {
   "cell_type": "code",
   "execution_count": null,
   "metadata": {},
   "outputs": [],
   "source": []
  }
 ],
 "metadata": {
  "celltoolbar": "Slideshow",
  "kernelspec": {
   "display_name": "Python 3",
   "language": "python",
   "name": "python3"
  },
  "language_info": {
   "codemirror_mode": {
    "name": "ipython",
    "version": 3
   },
   "file_extension": ".py",
   "mimetype": "text/x-python",
   "name": "python",
   "nbconvert_exporter": "python",
   "pygments_lexer": "ipython3",
   "version": "3.5.2"
  },
  "livereveal": {
   "start_slideshow_at": "selected"
  },
  "name": "Main.ipynb"
 },
 "nbformat": 4,
 "nbformat_minor": 2
}
