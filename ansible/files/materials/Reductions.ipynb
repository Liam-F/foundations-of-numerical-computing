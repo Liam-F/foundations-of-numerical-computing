{
 "cells": [
  {
   "cell_type": "markdown",
   "metadata": {},
   "source": [
    "# Reductions"
   ]
  },
  {
   "cell_type": "code",
   "execution_count": 1,
   "metadata": {},
   "outputs": [],
   "source": [
    "import numpy as np\n",
    "import pandas as pd\n",
    "\n",
    "\n",
    "def us_eastern(cs):\n",
    "    return pd.Timestamp(cs, tz='US/Eastern').to_datetime64()\n",
    "\n",
    "\n",
    "open_time = us_eastern('2018-05-04 9:30')\n",
    "close_time = us_eastern('2018-05-04 16:00')\n",
    "\n",
    "\n",
    "def generate_fake_ticks(seed=int.from_bytes(b'lmao', 'little')):\n",
    "    rand = np.random.RandomState(seed)\n",
    "\n",
    "    time_between_ticks_ns = rand.poisson(\n",
    "        int(1e9),\n",
    "        (close_time - open_time).view('int64') // int(1e9),\n",
    "    )\n",
    "    time_between_ticks_ns[0] += open_time.astype('int64')  # starting time\n",
    "    timestamps = time_between_ticks_ns.cumsum().astype('datetime64[ns]')\n",
    "\n",
    "    # we might get a sample or two past the end\n",
    "    timestamps = timestamps[timestamps < close_time]\n",
    "\n",
    "    dollar_returns = (rand.standard_t(3.1, len(timestamps)) / 1000).round(3)\n",
    "    dollar_returns[0] += 100  # starting price\n",
    "    prices = dollar_returns.cumsum()\n",
    "\n",
    "    volumes = rand.exponential(100, len(timestamps)).round().astype('int64')\n",
    "\n",
    "    return timestamps, prices, volumes\n",
    "\n",
    "\n",
    "timestamps, prices, volumes = generate_fake_ticks()"
   ]
  },
  {
   "cell_type": "markdown",
   "metadata": {},
   "source": [
    "# Compute the mean the of the volumes."
   ]
  },
  {
   "cell_type": "code",
   "execution_count": null,
   "metadata": {},
   "outputs": [],
   "source": []
  },
  {
   "cell_type": "markdown",
   "metadata": {},
   "source": [
    "# Compute the average time between ticks."
   ]
  },
  {
   "cell_type": "code",
   "execution_count": null,
   "metadata": {},
   "outputs": [],
   "source": [
    "np.diff?"
   ]
  },
  {
   "cell_type": "markdown",
   "metadata": {},
   "source": [
    "# Compute the number of ticks where the price increased and the number of ticks where the price decreased."
   ]
  },
  {
   "cell_type": "code",
   "execution_count": null,
   "metadata": {},
   "outputs": [],
   "source": []
  },
  {
   "cell_type": "markdown",
   "metadata": {},
   "source": [
    "# Compute the 25th, 50th, and 75th percentiles of price difference."
   ]
  },
  {
   "cell_type": "code",
   "execution_count": null,
   "metadata": {},
   "outputs": [],
   "source": []
  },
  {
   "cell_type": "markdown",
   "metadata": {},
   "source": [
    "# Compute the volume weighted average price."
   ]
  },
  {
   "cell_type": "code",
   "execution_count": null,
   "metadata": {},
   "outputs": [],
   "source": []
  },
  {
   "cell_type": "markdown",
   "metadata": {},
   "source": [
    "# Compute the timestamps when the lowest and highest occurs."
   ]
  },
  {
   "cell_type": "code",
   "execution_count": null,
   "metadata": {},
   "outputs": [],
   "source": []
  },
  {
   "cell_type": "markdown",
   "metadata": {},
   "source": [
    "# Compute the maximum drawdown.\n",
    "\n",
    "Max drawdown is the largest peak to trough price difference."
   ]
  },
  {
   "cell_type": "code",
   "execution_count": null,
   "metadata": {},
   "outputs": [],
   "source": []
  },
  {
   "cell_type": "markdown",
   "metadata": {},
   "source": [
    "# Compute the start timestamp and stop timestamp of the maximum drawdown."
   ]
  },
  {
   "cell_type": "code",
   "execution_count": null,
   "metadata": {},
   "outputs": [],
   "source": []
  },
  {
   "cell_type": "markdown",
   "metadata": {},
   "source": [
    "# Compute the total volume for each minute."
   ]
  },
  {
   "cell_type": "code",
   "execution_count": 2,
   "metadata": {},
   "outputs": [],
   "source": [
    "minute_labels = open_time + np.arange(1, 390, dtype='timedelta64[m]')"
   ]
  }
 ],
 "metadata": {
  "kernelspec": {
   "display_name": "Python 3",
   "language": "python",
   "name": "python3"
  },
  "language_info": {
   "codemirror_mode": {
    "name": "ipython",
    "version": 3
   },
   "file_extension": ".py",
   "mimetype": "text/x-python",
   "name": "python",
   "nbconvert_exporter": "python",
   "pygments_lexer": "ipython3",
   "version": "3.6.5"
  }
 },
 "nbformat": 4,
 "nbformat_minor": 2
}
