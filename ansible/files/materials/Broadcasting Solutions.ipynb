{
 "cells": [
  {
   "cell_type": "markdown",
   "metadata": {},
   "source": [
    "# Broadcasting\n",
    "\n",
    "In these exercises, we'll practice using broadcasting to combine arrays of different dimensions.\n",
    "\n",
    "The exercises here will draw on all the lessons we've seen leading up to this."
   ]
  },
  {
   "cell_type": "code",
   "execution_count": 1,
   "metadata": {},
   "outputs": [],
   "source": [
    "import numpy as np\n",
    "import pandas as pd\n",
    "from IPython.display import display\n",
    "import matplotlib.pyplot as plt\n",
    "import matplotlib as mpl\n",
    "mpl.rc('figure', figsize=(12, 7))"
   ]
  },
  {
   "cell_type": "markdown",
   "metadata": {},
   "source": [
    "## Bezier Curves\n",
    "\n",
    "A [Bezier Curve](https://en.wikipedia.org/wiki/B%C3%A9zier_curve) is way to define a two-dimensional curve in terms of a sequence of \"control points\". Intuitively, each control point \"pulls\" the path traced by the curve toward itself.\n",
    "\n",
    "Mathematically, a bezier curve defines a function $B(t)$ from the interval $[0, 1]$ to a two-dimensional point $p$."
   ]
  },
  {
   "cell_type": "markdown",
   "metadata": {},
   "source": [
    "Here's an example of a fourth-order bezier curve. You can see that as t moves from 0 to 1, the control points exert different amounts of \"force\", pulling the final point closer toward themselves."
   ]
  },
  {
   "cell_type": "markdown",
   "metadata": {},
   "source": [
    "![images/bezier.gif](images/bezier.gif)"
   ]
  },
  {
   "cell_type": "markdown",
   "metadata": {},
   "source": [
    "## Exercise: Linear Bezier Curve\n",
    "\n",
    "The simplest form of bezier curve is a \"first-order\" bezier curve with two control points $p_0$ and $p_1$. A first-order curve simply traces a line from $p_0$ to $p_1$.\n",
    "\n",
    "The formula for first-order bezier curve is:\n",
    "\n",
    "$B(t) = tp_0 + (1 - t)p_1$"
   ]
  },
  {
   "cell_type": "markdown",
   "metadata": {},
   "source": [
    "Implement a function that evaluates a Bezier curve at a single point. \n",
    "\n",
    "Your function should take the following arguments:\n",
    "\n",
    "- `p0`, a length-2 array containing (x, y) coordinates of the first control point.\n",
    "- `p1`, a length-2 array containing (x, y) coordinates of the second control point.\n",
    "- `t`, a scalar value between 0 and 1."
   ]
  },
  {
   "cell_type": "code",
   "execution_count": 2,
   "metadata": {},
   "outputs": [],
   "source": [
    "def evaluate_linear_bezier_curve(p0, p1, t):\n",
    "    raise NotImplementedError()"
   ]
  },
  {
   "cell_type": "code",
   "execution_count": 3,
   "metadata": {},
   "outputs": [
    {
     "ename": "NotImplementedError",
     "evalue": "",
     "output_type": "error",
     "traceback": [
      "\u001b[0;31m---------------------------------------------------------------------------\u001b[0m",
      "\u001b[0;31mNotImplementedError\u001b[0m                       Traceback (most recent call last)",
      "\u001b[0;32m<ipython-input-3-297c891e9926>\u001b[0m in \u001b[0;36m<module>\u001b[0;34m()\u001b[0m\n\u001b[1;32m      2\u001b[0m \u001b[0mp1\u001b[0m \u001b[0;34m=\u001b[0m \u001b[0mnp\u001b[0m\u001b[0;34m.\u001b[0m\u001b[0marray\u001b[0m\u001b[0;34m(\u001b[0m\u001b[0;34m[\u001b[0m\u001b[0;36m2\u001b[0m\u001b[0;34m,\u001b[0m \u001b[0;36m1\u001b[0m\u001b[0;34m]\u001b[0m\u001b[0;34m)\u001b[0m\u001b[0;34m\u001b[0m\u001b[0m\n\u001b[1;32m      3\u001b[0m \u001b[0;34m\u001b[0m\u001b[0m\n\u001b[0;32m----> 4\u001b[0;31m \u001b[0mhalfway\u001b[0m \u001b[0;34m=\u001b[0m \u001b[0mevaluate_linear_bezier_curve\u001b[0m\u001b[0;34m(\u001b[0m\u001b[0mp0\u001b[0m\u001b[0;34m,\u001b[0m \u001b[0mp1\u001b[0m\u001b[0;34m,\u001b[0m \u001b[0;36m0.5\u001b[0m\u001b[0;34m)\u001b[0m\u001b[0;34m\u001b[0m\u001b[0m\n\u001b[0m\u001b[1;32m      5\u001b[0m \u001b[0mthree_quarters\u001b[0m \u001b[0;34m=\u001b[0m \u001b[0mevaluate_linear_bezier_curve\u001b[0m\u001b[0;34m(\u001b[0m\u001b[0mp0\u001b[0m\u001b[0;34m,\u001b[0m \u001b[0mp1\u001b[0m\u001b[0;34m,\u001b[0m \u001b[0;36m0.25\u001b[0m\u001b[0;34m)\u001b[0m\u001b[0;34m\u001b[0m\u001b[0m\n\u001b[1;32m      6\u001b[0m \u001b[0;34m\u001b[0m\u001b[0m\n",
      "\u001b[0;32m<ipython-input-2-2520d5015571>\u001b[0m in \u001b[0;36mevaluate_linear_bezier_curve\u001b[0;34m(p0, p1, t)\u001b[0m\n\u001b[1;32m      1\u001b[0m \u001b[0;32mdef\u001b[0m \u001b[0mevaluate_linear_bezier_curve\u001b[0m\u001b[0;34m(\u001b[0m\u001b[0mp0\u001b[0m\u001b[0;34m,\u001b[0m \u001b[0mp1\u001b[0m\u001b[0;34m,\u001b[0m \u001b[0mt\u001b[0m\u001b[0;34m)\u001b[0m\u001b[0;34m:\u001b[0m\u001b[0;34m\u001b[0m\u001b[0m\n\u001b[0;32m----> 2\u001b[0;31m     \u001b[0;32mraise\u001b[0m \u001b[0mNotImplementedError\u001b[0m\u001b[0;34m(\u001b[0m\u001b[0;34m)\u001b[0m\u001b[0;34m\u001b[0m\u001b[0m\n\u001b[0m",
      "\u001b[0;31mNotImplementedError\u001b[0m: "
     ]
    }
   ],
   "source": [
    "p0 = np.array([0, 0])\n",
    "p1 = np.array([2, 1])\n",
    "\n",
    "halfway = evaluate_linear_bezier_curve(p0, p1, 0.5)\n",
    "three_quarters = evaluate_linear_bezier_curve(p0, p1, 0.25)\n",
    "\n",
    "np.testing.assert_almost_equal(halfway, [1.0, 0.5])\n",
    "np.testing.assert_almost_equal(three_quarters, [1.5, 0.75])"
   ]
  },
  {
   "cell_type": "markdown",
   "metadata": {},
   "source": [
    "Implement a function that computes an array of samples from a linear bezier curve. Your function should take the following arguments:\n",
    "\n",
    "- `p0`, a length-2 array containing (x, y) coordinates of the first control point.\n",
    "- `p1`, a length-2 array containing (x, y) coordinates of the second control point.\n",
    "- `ts`, a 1d array of unknown length containing sample values between 0 and 1.\n",
    "\n",
    "Your function should return a `len(t) x 2` array containing (x, y) coordinates of the requested samples."
   ]
  },
  {
   "cell_type": "code",
   "execution_count": 4,
   "metadata": {},
   "outputs": [],
   "source": [
    "def draw_linear_bezier_curve(p0, p1):\n",
    "    ts = np.linspace(0, 1, 50)\n",
    "    samples = compute_linear_bezier_curve(p0, p1, ts)\n",
    "    X = samples[:, 0]\n",
    "    Y = samples[:, 1]\n",
    "    \n",
    "    plt.plot(X, Y)\n",
    "    plt.scatter([p0[0], p1[0]], [p0[1], p1[1]], color='red')\n",
    "\n",
    "def compute_linear_bezier_curve(p0, p1, ts):\n",
    "    ts = ts[:, np.newaxis]\n",
    "    return ts * p0 + (1 - ts) * p1"
   ]
  },
  {
   "cell_type": "code",
   "execution_count": 5,
   "metadata": {},
   "outputs": [
    {
     "data": {
      "image/png": "[encoded data removed]",
      "text/plain": [
       "<Figure size 432x288 with 1 Axes>"
      ]
     },
     "metadata": {},
     "output_type": "display_data"
    }
   ],
   "source": [
    "draw_linear_bezier_curve(np.array([1, 1]), np.array([2, 3]));"
   ]
  },
  {
   "cell_type": "markdown",
   "metadata": {},
   "source": [
    "## Exercise: Quadratic Bezier Curve\n",
    "\n",
    "The next-simplest form of Bezier Curve is a second-order curve. A second-order Bezier Curve three control points, and can be implemented using the following formula:\n",
    "\n",
    "$b(t) = (1 - t)^2p_0 + 2(1 - t)tp_1 + t^2p_2$\n",
    "\n",
    "Implement a function with the same signature as above, but accept three control points, p0, p1, and p2."
   ]
  },
  {
   "cell_type": "code",
   "execution_count": 6,
   "metadata": {},
   "outputs": [],
   "source": [
    "def draw_quadratic_bezier_curve(p0, p1, p2):\n",
    "    ts = np.linspace(0, 1, 50)\n",
    "    samples = compute_quadratic_bezier_curve(p0, p1, p2, ts)\n",
    "    X = samples[:, 0]\n",
    "    Y = samples[:, 1]\n",
    "    plt.plot(X, Y)\n",
    "    \n",
    "    points = np.vstack([p0, p1, p2])\n",
    "    plt.scatter(points[:, 0], points[:, 1], color='red')\n",
    "    plt.plot(points[:, 0], points[:, 1], linestyle='--', color='red')\n",
    "    \n",
    "\n",
    "def compute_quadratic_bezier_curve(p0, p1, p2, ts):\n",
    "    ts = ts[:, np.newaxis]\n",
    "    \n",
    "    p0_term = (1 - ts) ** 2 * p0\n",
    "    p1_term = 2 * (1 - ts) * ts * p1\n",
    "    p2_term = (ts ** 2) * p2\n",
    "    \n",
    "    return p0_term + p1_term + p2_term"
   ]
  },
  {
   "cell_type": "code",
   "execution_count": 7,
   "metadata": {},
   "outputs": [
    {
     "data": {
      "image/png": "[encoded data removed]",
      "text/plain": [
       "<Figure size 432x288 with 1 Axes>"
      ]
     },
     "metadata": {},
     "output_type": "display_data"
    }
   ],
   "source": [
    "p0 = np.array([0, 0])\n",
    "p1 = np.array([1, 1])\n",
    "p2 = np.array([2, -2])\n",
    "draw_quadratic_bezier_curve(p0, p1, p2)"
   ]
  },
  {
   "cell_type": "markdown",
   "metadata": {},
   "source": [
    "## Exercise: Cubic Bezier Curve\n",
    "\n",
    "A cubic Bezier Curve has four control points, and has the following formula:\n",
    "\n",
    "$b(t) = (1 - t)^3p_0 + 3(1 - t)^2tp_1 + 3(1 - t)t^2p_2 + t^3p_3$\n",
    "\n",
    "Implement an evaluator for a cubic bezier curve following the same pattern as above."
   ]
  },
  {
   "cell_type": "code",
   "execution_count": 8,
   "metadata": {},
   "outputs": [],
   "source": [
    "def draw_cubic_bezier_curve(p0, p1, p2, p3):\n",
    "    ts = np.linspace(0, 1, 50)\n",
    "    samples = compute_cubic_bezier_curve(p0, p1, p2, p3, ts)\n",
    "    X = samples[:, 0]\n",
    "    Y = samples[:, 1]\n",
    "    plt.plot(X, Y)\n",
    "    \n",
    "    points = np.vstack([p0, p1, p2, p3])\n",
    "    plt.scatter(points[:, 0], points[:, 1], color='red')\n",
    "    plt.plot(points[:, 0], points[:, 1], linestyle='--', color='red')\n",
    "    \n",
    "\n",
    "def compute_cubic_bezier_curve(p0, p1, p2, p3, ts):\n",
    "    ts = ts[:, np.newaxis]\n",
    "    \n",
    "    p0_term = (1 - ts) ** 3 * p0\n",
    "    p1_term = 3 * (1 - ts) ** 2 * ts * p1\n",
    "    p2_term = 3 * (1 - ts) * (ts ** 2) * p2\n",
    "    p3_term = ts ** 3 * p3\n",
    "    \n",
    "    return p0_term + p1_term + p2_term + p3_term"
   ]
  },
  {
   "cell_type": "code",
   "execution_count": 9,
   "metadata": {},
   "outputs": [
    {
     "data": {
      "image/png": "[encoded data removed]",
      "text/plain": [
       "<Figure size 432x288 with 1 Axes>"
      ]
     },
     "metadata": {},
     "output_type": "display_data"
    }
   ],
   "source": [
    "p0 = np.array([0, 0])\n",
    "p1 = np.array([1, 1])\n",
    "p2 = np.array([2, -2])\n",
    "p3 = np.array([3, 3])\n",
    "draw_cubic_bezier_curve(p0, p1, p2, p3)"
   ]
  },
  {
   "cell_type": "markdown",
   "metadata": {},
   "source": [
    "## Exercise: Generalized Bezier Curve\n",
    "\n",
    "You may have started to notice a pattern in the coefficients of each control point's contribution to the curve. We're getting [Binomial Coefficients](https://en.wikipedia.org/wiki/Binomial_coefficient)!\n",
    "\n",
    "The general formual for a Bezier curve with $n$ control points is:\n",
    "\n",
    "$b(t) = \\sum_{i=0}^n \\binom{n}{i}(1 - t)^{n - i}t^ip_i$\n",
    "\n",
    "where $\\binom{n}{i}$ is the binomial coefficient of $n$ and $i$.\n",
    "\n",
    "Implement a function that computes samples from a generalized bezier curve. It should take a 2d array of (npoints x 2) and a 1d array of samples, and it should return a (len(t) x 2) array of evaluated samples. \n",
    "\n",
    "(**Hint:** You can use `scipy.special.comb` to evaluate binomial coefficients.)"
   ]
  },
  {
   "cell_type": "code",
   "execution_count": 10,
   "metadata": {},
   "outputs": [],
   "source": [
    "from scipy.special import comb\n",
    "\n",
    "def draw_bezier_curve(points):\n",
    "    ts = np.linspace(0, 1, 50)\n",
    "    samples = compute_bezier_curve(points, ts)\n",
    "    X = samples[:, 0]\n",
    "    Y = samples[:, 1]\n",
    "    plt.plot(X, Y)\n",
    "    \n",
    "    plt.scatter(points[:, 0], points[:, 1], color='red')\n",
    "    plt.plot(points[:, 0], points[:, 1], linestyle='--', color='red')\n",
    "    \n",
    "def compute_bezier_curve(points, t):\n",
    "    t = t[:, np.newaxis]\n",
    "    n = len(points) - 1\n",
    "    i = np.arange(len(points))\n",
    "    \n",
    "    # Compute binomial coefficients.\n",
    "    # Examples:\n",
    "    #   In [1]: comb(3, np.arange(4))\n",
    "    #   Out[1]: array([1., 3., 3., 1.])\n",
    "    #   In [2]: comb(4, np.arange(5))\n",
    "    #   Out[2]: array([1., 4., 6., 4., 1.])\n",
    "    #   In [3]: comb(5, np.arange(6))\n",
    "    #   Out[3]: array([ 1.,  5., 10., 10.,  5.,  1.])\n",
    "    binomials = comb(n, i)\n",
    "    \n",
    "    # Multiply by the interpolation weights at each time-step.\n",
    "    # This produces a (nsamples x npoints) array containing the coefficients\n",
    "    # by which to multiply each point at each time.\n",
    "    weights = binomials * (1 - t) ** (n - i) * t ** i\n",
    "    \n",
    "    # At each time-step, we want to multiply all the points by their weights, \n",
    "    # and then sum the contributions from each point. \n",
    "    # That's precisely what a matrix-multiply does!\n",
    "    return weights @ points"
   ]
  },
  {
   "cell_type": "code",
   "execution_count": 11,
   "metadata": {
    "scrolled": false
   },
   "outputs": [
    {
     "data": {
      "image/png": "[encoded data removed]",
      "text/plain": [
       "<Figure size 432x288 with 1 Axes>"
      ]
     },
     "metadata": {},
     "output_type": "display_data"
    }
   ],
   "source": [
    "draw_bezier_curve(np.vstack([p0, p1, p2, p3]))"
   ]
  },
  {
   "cell_type": "markdown",
   "metadata": {},
   "source": [
    "## Exercise: Estimate the Length of a Bezier Curve\n",
    "\n",
    "Write a function that estimates the length of a bezier curve by computing an array of sample points and summing the difference between each successive point."
   ]
  },
  {
   "cell_type": "code",
   "execution_count": 12,
   "metadata": {},
   "outputs": [],
   "source": [
    "def estimate_curve_length(points, nsamples):\n",
    "    samples = compute_bezier_curve(points, np.linspace(0, 1, nsamples))\n",
    "    deltas = np.diff(samples, axis=0)\n",
    "    \n",
    "    lengths = np.sqrt((deltas ** 2).sum(axis=1))\n",
    "    total_length = lengths.sum()\n",
    "    \n",
    "    return total_length"
   ]
  },
  {
   "cell_type": "code",
   "execution_count": 13,
   "metadata": {},
   "outputs": [
    {
     "data": {
      "text/plain": [
       "5.033940329994518"
      ]
     },
     "execution_count": 13,
     "metadata": {},
     "output_type": "execute_result"
    }
   ],
   "source": [
    "estimate_curve_length([p0, p1, p2, p3], 5)"
   ]
  },
  {
   "cell_type": "code",
   "execution_count": 14,
   "metadata": {},
   "outputs": [
    {
     "name": "stdout",
     "output_type": "stream",
     "text": [
      "4.854101966249685\n",
      "4.964603420827521\n",
      "5.033940329994518\n",
      "5.07353336566527\n",
      "5.092520836611209\n",
      "5.104771190900166\n",
      "5.112373676140547\n"
     ]
    }
   ],
   "source": [
    "for i in range(3, 10):\n",
    "    print(estimate_curve_length([p0, p1, p2, p3], i))"
   ]
  },
  {
   "cell_type": "code",
   "execution_count": null,
   "metadata": {},
   "outputs": [],
   "source": []
  }
 ],
 "metadata": {
  "kernelspec": {
   "display_name": "Python 3",
   "language": "python",
   "name": "python3"
  },
  "language_info": {
   "codemirror_mode": {
    "name": "ipython",
    "version": 3
   },
   "file_extension": ".py",
   "mimetype": "text/x-python",
   "name": "python",
   "nbconvert_exporter": "python",
   "pygments_lexer": "ipython3",
   "version": "3.5.2"
  }
 },
 "nbformat": 4,
 "nbformat_minor": 2
}
